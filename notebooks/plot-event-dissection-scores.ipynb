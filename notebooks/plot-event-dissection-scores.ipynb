{
 "cells": [
  {
   "cell_type": "code",
   "execution_count": 1,
   "id": "6ba88eed",
   "metadata": {},
   "outputs": [],
   "source": [
    "import fix_project_path\n",
    "\n",
    "from pathlib import Path\n",
    "\n",
    "import matplotlib.pyplot as plt\n",
    "import numpy as np\n",
    "import pandas as pd\n",
    "import seaborn as sns\n",
    "from tqdm.notebook import tqdm\n",
    "\n",
    "from evaluate.segmentations import do_property_binning\n",
    "from config import basepaths\n",
    "from config import Config\n",
    "from config.datasets import datasets\n",
    "from config.repositories import repositories\n",
    "from datasets.loader import load_data, DataFoldFactory\n",
    "from evaluate.segmentations import do_event_dissection\n",
    "from experiment import ExperimentKeys\n",
    "from paths import ExperimentPaths, makedirs\n",
    "\n",
    "\n",
    "%load_ext autoreload\n",
    "%autoreload 2"
   ]
  },
  {
   "cell_type": "code",
   "execution_count": 2,
   "id": "74dc1b9f",
   "metadata": {},
   "outputs": [],
   "source": [
    "data_keys = {\n",
    "    #'gazebase_all_sr1000_sl1000_dxy': \"GazeBase (1000 s)\",\n",
    "    #'gazebase_all_sr1000_sl5000_savgol_maxvel500_dxy': \"GazeBase\",# (5000 s)\",\n",
    "    #'gazebase_all_sr1000_sl5000_savgol_maxvel750_dxy': \"GazeBase\",# (5000 s)\",\n",
    "    'gazebase_all_sr1000_sl5000_savgol_maxvel1000_dxy': \"GazeBase\",# (5000 s)\",\n",
    "\n",
    "    #'judo_sr1000_sl1000_rxy': \"JuDo1000 (right eye)\",\n",
    "    #'judo_sr1000_sl1000_savgol_maxvel500_bxy': \"JuDo1000\",# (both eyes)\",\n",
    "    #'judo_sr1000_sl1000_savgol_maxvel750_bxy': \"JuDo1000\",# (both eyes)\",\n",
    "    'judo_sr1000_sl1000_savgol_maxvel1000_bxy': \"JuDo1000\",# (both eyes)\",\n",
    "\n",
    "    #'potec_sr1000_sl1000_savgol_maxvel500_dxy': \"PoTeC\",\n",
    "    #'potec_sr1000_sl1000_savgol_maxvel750_dxy': \"PoTeC\",\n",
    "    'potec_sr1000_sl1000_savgol_maxvel1000_dxy': \"PoTeC\",\n",
    "}\n",
    "\n",
    "\n",
    "model_keys = {\n",
    "    'eky2': \"EKY2\",\n",
    "    #'del_slow': \"DELslow\",\n",
    "    #'del_fast_zstd': \"DELfast0\",\n",
    "    #'del_zstd': \"DEL0\",\n",
    "    #'del_fast_vmin1': \"DELfast1\",\n",
    "    #'del_vmin1': \"DEL1\",\n",
    "    #'del_fast_vmin4': \"DELfast\",\n",
    "    #'del_vmin4': \"DEL\",\n",
    "    #'del_fast_vmin10': \"DELfast10\",\n",
    "    #'del_vmin10': \"DEL\",\n",
    "    #'del_fast': \"DELfast40\",\n",
    "    #'del': \"DEL40\",\n",
    "}\n",
    "\n",
    "explainer_keys = {\n",
    "    'deeplift_zero': 'DL',\n",
    "    #'input_x_gradient': 'IxG',\n",
    "    'integrated_gradients_zero': 'IG',\n",
    "    #'occlusion_s3': 'Occ(3)',\n",
    "    #'occlusion_s5': 'Occ(5)',\n",
    "\n",
    "    #'lrp_epsilon0_only': 'LRP-ε0',\n",
    "    'lrp_epsilon0.25_only': 'LRP',#-Ε',\n",
    "    #'lrp_epsilon1e-6_only': 'LRP-ε',\n",
    "    \n",
    "    #'lrp_epsilon_plus': 'LRP-ε+',\n",
    "    #'lrp_epsilon_plus_flat': 'LRP-ε+♭',\n",
    "    \n",
    "    #'lrp_epsilon_gamma0.25': 'LRP-γ',\n",
    "    #'lrp_epsilon_gamma0.25_flat': 'LRP-γ♭',\n",
    "    #'lrp_epsilon_gamma0.1': 'LRP-εγ.1',\n",
    "    #'lrp_epsilon_gamma0.1_flat': 'LRP-εγ.1♭',\n",
    "\n",
    "    #'lrp_epsilon_alpha2_beta1': 'LRP-α2β1',\n",
    "    #'lrp_epsilon_alpha2_beta1_flat': 'LRP-α2β1♭',\n",
    "    #'lrp_epsilon_alpha1_beta0': 'LRP-α1β0',\n",
    "    #'lrp_epsilon_alpha1_beta0_flat': 'LRP-α1β0♭',\n",
    "}\n",
    "\n",
    "metric_keys = {\n",
    "    #'area_under_curve': 'score',\n",
    "    #'attribution_localisation': 'score',\n",
    "    #'attribution_localisation_weighted': 'score',\n",
    "    #'localized_attribution_aggregate_max': 'score',\n",
    "    #'localized_attribution_aggregate_mean': 'score',\n",
    "    #'localized_attribution_aggregate_median': 'score',\n",
    "    #'pointing_game': 'score',\n",
    "    #'pointing_game_weighted': 'score',\n",
    "    #'relevance_mass_accuracy': 'score',\n",
    "    #'top_1_percent_intersection': 'score',\n",
    "    #'top_1_percent_intersection_concept_influence': 'score',\n",
    "    'top_2_percent_intersection': 'top k intersection',\n",
    "    'top_2_percent_intersection_concept_influence': 'concept influence',\n",
    "    #'top_5_percent_intersection': 'score',\n",
    "    #'top_5_percent_intersection_concept_influence': 'score',\n",
    "    #'top_10_percent_intersection': 'score',\n",
    "    #'top_10_percent_intersection_concept_influence': 'score',\n",
    "    #'top_20_percent_intersection': 'score',\n",
    "    #'top_20_percent_intersection_concept_influence': 'score',\n",
    "}\n",
    "\n",
    "segmentation_keys = {\n",
    "    #'clip': 'clip',\n",
    "    #'nan': 'nan',\n",
    "    #'engbert.fixation': 'fixation',\n",
    "    'engbert.saccade_dissection_vpeak80': 'saccade',\n",
    "    #'engbert.saccade.monocular': 'saccade.monocular',\n",
    "}\n",
    "\n",
    "\n",
    "\n",
    "base_segmentation_key = 'engbert.saccade'\n",
    "dissection_key = 'vpeak80'\n",
    "\n",
    "sections = {\n",
    "    0: 'pre',\n",
    "    1: 'rise',\n",
    "    2: 'peak',\n",
    "    3: 'basin',\n",
    "    4: 'fall',\n",
    "    5: 'post',\n",
    "}\n",
    "\n",
    "basepath = Path('/mnt/scratch/krakowczyk/workspace/xai-timeseries/')"
   ]
  },
  {
   "cell_type": "code",
   "execution_count": null,
   "id": "2849e2f9",
   "metadata": {},
   "outputs": [],
   "source": []
  },
  {
   "cell_type": "code",
   "execution_count": null,
   "id": "04d697d7",
   "metadata": {},
   "outputs": [],
   "source": []
  },
  {
   "cell_type": "code",
   "execution_count": null,
   "id": "7c8d8898",
   "metadata": {},
   "outputs": [],
   "source": []
  },
  {
   "cell_type": "code",
   "execution_count": null,
   "id": "9b8fd7e5",
   "metadata": {},
   "outputs": [],
   "source": []
  },
  {
   "cell_type": "code",
   "execution_count": 3,
   "id": "4541b948",
   "metadata": {},
   "outputs": [
    {
     "data": {
      "application/json": {
       "ascii": false,
       "bar_format": null,
       "colour": null,
       "elapsed": 0.013300657272338867,
       "initial": 0,
       "n": 0,
       "ncols": null,
       "nrows": 112,
       "postfix": null,
       "prefix": "",
       "rate": null,
       "total": 3,
       "unit": "it",
       "unit_divisor": 1000,
       "unit_scale": false
      },
      "application/vnd.jupyter.widget-view+json": {
       "model_id": "faf672cdd595420c97deb9b42e1f3dc6",
       "version_major": 2,
       "version_minor": 0
      },
      "text/plain": [
       "  0%|          | 0/3 [00:00<?, ?it/s]"
      ]
     },
     "metadata": {},
     "output_type": "display_data"
    },
    {
     "name": "stdout",
     "output_type": "stream",
     "text": [
      "Selected input channels: ['dx', 'dy']\n",
      "X.shape: (67483, 5000, 2)\n",
      "Y.shape: (67483, 100)\n",
      "Folds: [1, 2, 3, 4]\n",
      "Selected input channels: ['dxr', 'dyr', 'dxl', 'dyl']\n",
      "X.shape: (172623, 1000, 4)\n",
      "Y.shape: (172623, 150)\n",
      "Folds: [1, 2, 3, 4]\n",
      "Selected input channels: ['dx', 'dy']\n",
      "X.shape: (107540, 1000, 2)\n",
      "Y.shape: (107540, 75)\n",
      "Folds: [0, 1, 2, 3, 4, 5, 6, 7, 8, 9, 10, 11]\n"
     ]
    }
   ],
   "source": [
    "velocities = {}\n",
    "fold_indices = {}\n",
    "dataset_sizes = {}\n",
    "\n",
    "for data_key in tqdm(data_keys):\n",
    "    keys = ExperimentKeys(data_key=data_key)\n",
    "    config = Config(experiment_keys=keys)\n",
    "    paths = ExperimentPaths(basepath=basepaths.workspace, config=config)\n",
    "    data = load_data(config=config, paths=paths)\n",
    "    \n",
    "    fold_indices[data_key] = data['folds']\n",
    "    dataset_sizes[data_key] = len(data['X'])\n",
    "    velocities[data_key] = data['X']\n",
    "    \n",
    "    del data"
   ]
  },
  {
   "cell_type": "code",
   "execution_count": 4,
   "id": "7c9b2e4d",
   "metadata": {},
   "outputs": [
    {
     "data": {
      "application/json": {
       "ascii": false,
       "bar_format": null,
       "colour": null,
       "elapsed": 0.015630245208740234,
       "initial": 0,
       "n": 0,
       "ncols": null,
       "nrows": 112,
       "postfix": null,
       "prefix": "",
       "rate": null,
       "total": 3,
       "unit": "it",
       "unit_divisor": 1000,
       "unit_scale": false
      },
      "application/vnd.jupyter.widget-view+json": {
       "model_id": "73ec9c3c15914ed7a74160ac1029d69b",
       "version_major": 2,
       "version_minor": 0
      },
      "text/plain": [
       "  0%|          | 0/3 [00:00<?, ?it/s]"
      ]
     },
     "metadata": {},
     "output_type": "display_data"
    }
   ],
   "source": [
    "segmentations = {}\n",
    "properties = {}\n",
    "\n",
    "for data_key in tqdm(data_keys):\n",
    "    repo_key = datasets[data_key]['repo_key']\n",
    "    repo_path = Path(repositories[repo_key]['dirpath'])\n",
    "    \n",
    "    event_dirpath = basepath / repo_path / 'events'\n",
    "    segmentation_filepath = event_dirpath / f'{base_segmentation_key}.npy'\n",
    "    properties_filepath = event_dirpath / f'{base_segmentation_key}.csv'\n",
    "\n",
    "    if not segmentation_filepath.exists():\n",
    "        print('skip', segmentation_filepath)\n",
    "        continue\n",
    "        \n",
    "    if not properties_filepath.exists():\n",
    "        print('skip', properties_filepath)\n",
    "        continue\n",
    "        \n",
    "    segmentations[data_key] = np.load(segmentation_filepath)\n",
    "\n",
    "    properties_dataset = pd.read_csv(properties_filepath)\n",
    "    properties_dataset['data'] = data_key\n",
    "    properties[data_key] = properties_dataset\n",
    "\n"
   ]
  },
  {
   "cell_type": "code",
   "execution_count": 5,
   "id": "a3f652d7",
   "metadata": {},
   "outputs": [
    {
     "data": {
      "text/html": [
       "<div>\n",
       "<style scoped>\n",
       "    .dataframe tbody tr th:only-of-type {\n",
       "        vertical-align: middle;\n",
       "    }\n",
       "\n",
       "    .dataframe tbody tr th {\n",
       "        vertical-align: top;\n",
       "    }\n",
       "\n",
       "    .dataframe thead th {\n",
       "        text-align: right;\n",
       "    }\n",
       "</style>\n",
       "<table border=\"1\" class=\"dataframe\">\n",
       "  <thead>\n",
       "    <tr style=\"text-align: right;\">\n",
       "      <th></th>\n",
       "      <th></th>\n",
       "      <th></th>\n",
       "      <th></th>\n",
       "      <th></th>\n",
       "      <th></th>\n",
       "      <th>score</th>\n",
       "      <th>fold</th>\n",
       "    </tr>\n",
       "    <tr>\n",
       "      <th>data</th>\n",
       "      <th>model</th>\n",
       "      <th>explainer</th>\n",
       "      <th>metric</th>\n",
       "      <th>section</th>\n",
       "      <th>instance_id</th>\n",
       "      <th></th>\n",
       "      <th></th>\n",
       "    </tr>\n",
       "  </thead>\n",
       "  <tbody>\n",
       "    <tr>\n",
       "      <th rowspan=\"5\" valign=\"top\">gazebase_all_sr1000_sl5000_savgol_maxvel1000_dxy</th>\n",
       "      <th rowspan=\"5\" valign=\"top\">eky2</th>\n",
       "      <th rowspan=\"5\" valign=\"top\">deeplift_zero</th>\n",
       "      <th rowspan=\"5\" valign=\"top\">top_2_percent_intersection</th>\n",
       "      <th rowspan=\"5\" valign=\"top\">basin</th>\n",
       "      <th>0</th>\n",
       "      <td>1</td>\n",
       "      <td>1</td>\n",
       "    </tr>\n",
       "    <tr>\n",
       "      <th>1</th>\n",
       "      <td>1</td>\n",
       "      <td>1</td>\n",
       "    </tr>\n",
       "    <tr>\n",
       "      <th>2</th>\n",
       "      <td>1</td>\n",
       "      <td>1</td>\n",
       "    </tr>\n",
       "    <tr>\n",
       "      <th>3</th>\n",
       "      <td>1</td>\n",
       "      <td>1</td>\n",
       "    </tr>\n",
       "    <tr>\n",
       "      <th>4</th>\n",
       "      <td>1</td>\n",
       "      <td>1</td>\n",
       "    </tr>\n",
       "    <tr>\n",
       "      <th>...</th>\n",
       "      <th>...</th>\n",
       "      <th>...</th>\n",
       "      <th>...</th>\n",
       "      <th>...</th>\n",
       "      <th>...</th>\n",
       "      <td>...</td>\n",
       "      <td>...</td>\n",
       "    </tr>\n",
       "    <tr>\n",
       "      <th rowspan=\"5\" valign=\"top\">potec_sr1000_sl1000_savgol_maxvel1000_dxy</th>\n",
       "      <th rowspan=\"5\" valign=\"top\">eky2</th>\n",
       "      <th rowspan=\"5\" valign=\"top\">lrp_epsilon0.25_only</th>\n",
       "      <th rowspan=\"5\" valign=\"top\">top_2_percent_intersection_concept_influence</th>\n",
       "      <th rowspan=\"5\" valign=\"top\">rise</th>\n",
       "      <th>107535</th>\n",
       "      <td>11</td>\n",
       "      <td>11</td>\n",
       "    </tr>\n",
       "    <tr>\n",
       "      <th>107536</th>\n",
       "      <td>11</td>\n",
       "      <td>11</td>\n",
       "    </tr>\n",
       "    <tr>\n",
       "      <th>107537</th>\n",
       "      <td>11</td>\n",
       "      <td>11</td>\n",
       "    </tr>\n",
       "    <tr>\n",
       "      <th>107538</th>\n",
       "      <td>11</td>\n",
       "      <td>11</td>\n",
       "    </tr>\n",
       "    <tr>\n",
       "      <th>107539</th>\n",
       "      <td>11</td>\n",
       "      <td>11</td>\n",
       "    </tr>\n",
       "  </tbody>\n",
       "</table>\n",
       "<p>12515256 rows × 2 columns</p>\n",
       "</div>"
      ],
      "text/plain": [
       "                                                                                                                                             score  \\\n",
       "data                                             model explainer            metric                                       section instance_id         \n",
       "gazebase_all_sr1000_sl5000_savgol_maxvel1000_dxy eky2  deeplift_zero        top_2_percent_intersection                   basin   0               1   \n",
       "                                                                                                                                 1               1   \n",
       "                                                                                                                                 2               1   \n",
       "                                                                                                                                 3               1   \n",
       "                                                                                                                                 4               1   \n",
       "...                                                                                                                                            ...   \n",
       "potec_sr1000_sl1000_savgol_maxvel1000_dxy        eky2  lrp_epsilon0.25_only top_2_percent_intersection_concept_influence rise    107535         11   \n",
       "                                                                                                                                 107536         11   \n",
       "                                                                                                                                 107537         11   \n",
       "                                                                                                                                 107538         11   \n",
       "                                                                                                                                 107539         11   \n",
       "\n",
       "                                                                                                                                             fold  \n",
       "data                                             model explainer            metric                                       section instance_id       \n",
       "gazebase_all_sr1000_sl5000_savgol_maxvel1000_dxy eky2  deeplift_zero        top_2_percent_intersection                   basin   0              1  \n",
       "                                                                                                                                 1              1  \n",
       "                                                                                                                                 2              1  \n",
       "                                                                                                                                 3              1  \n",
       "                                                                                                                                 4              1  \n",
       "...                                                                                                                                           ...  \n",
       "potec_sr1000_sl1000_savgol_maxvel1000_dxy        eky2  lrp_epsilon0.25_only top_2_percent_intersection_concept_influence rise    107535        11  \n",
       "                                                                                                                                 107536        11  \n",
       "                                                                                                                                 107537        11  \n",
       "                                                                                                                                 107538        11  \n",
       "                                                                                                                                 107539        11  \n",
       "\n",
       "[12515256 rows x 2 columns]"
      ]
     },
     "metadata": {},
     "output_type": "display_data"
    }
   ],
   "source": [
    "dfs = []\n",
    "\n",
    "for data_key in data_keys:\n",
    "    index = pd.MultiIndex.from_product(\n",
    "        iterables=[\n",
    "            [data_key],\n",
    "            model_keys.keys(),\n",
    "            explainer_keys.keys(),\n",
    "            metric_keys.keys(),\n",
    "            sections.values(),\n",
    "            range(dataset_sizes[data_key])\n",
    "        ],\n",
    "        names=['data', 'model', 'explainer', 'metric', 'section', 'instance_id'],\n",
    "    )\n",
    "\n",
    "    df = pd.DataFrame(index=index, columns=['score', 'fold'])\n",
    "\n",
    "    for fold_id, fold_masks in fold_indices[data_key].items():\n",
    "        test_mask = fold_masks['test']\n",
    "        test_idx = np.where(test_mask)[0]\n",
    "        df.loc[df.index.get_level_values('instance_id').isin(test_idx)] = fold_id\n",
    "\n",
    "    dfs.append(df)\n",
    "\n",
    "scores = pd.concat(dfs)\n",
    "del dfs\n",
    "\n",
    "scores.sort_index(inplace=True)\n",
    "\n",
    "display(scores)"
   ]
  },
  {
   "cell_type": "code",
   "execution_count": 6,
   "id": "b321fef1",
   "metadata": {
    "scrolled": false
   },
   "outputs": [
    {
     "data": {
      "application/json": {
       "ascii": false,
       "bar_format": null,
       "colour": null,
       "elapsed": 0.011901617050170898,
       "initial": 0,
       "n": 0,
       "ncols": null,
       "nrows": 112,
       "postfix": null,
       "prefix": "",
       "rate": null,
       "total": 3,
       "unit": "it",
       "unit_divisor": 1000,
       "unit_scale": false
      },
      "application/vnd.jupyter.widget-view+json": {
       "model_id": "b95bedc526e441e882ae2aea9bc69f30",
       "version_major": 2,
       "version_minor": 0
      },
      "text/plain": [
       "  0%|          | 0/3 [00:00<?, ?it/s]"
      ]
     },
     "metadata": {},
     "output_type": "display_data"
    },
    {
     "data": {
      "application/json": {
       "ascii": false,
       "bar_format": null,
       "colour": null,
       "elapsed": 0.011264324188232422,
       "initial": 0,
       "n": 0,
       "ncols": null,
       "nrows": 112,
       "postfix": null,
       "prefix": "",
       "rate": null,
       "total": 1,
       "unit": "it",
       "unit_divisor": 1000,
       "unit_scale": false
      },
      "application/vnd.jupyter.widget-view+json": {
       "model_id": "",
       "version_major": 2,
       "version_minor": 0
      },
      "text/plain": [
       "  0%|          | 0/1 [00:00<?, ?it/s]"
      ]
     },
     "metadata": {},
     "output_type": "display_data"
    },
    {
     "data": {
      "application/json": {
       "ascii": false,
       "bar_format": null,
       "colour": null,
       "elapsed": 0.011301994323730469,
       "initial": 0,
       "n": 0,
       "ncols": null,
       "nrows": 112,
       "postfix": null,
       "prefix": "",
       "rate": null,
       "total": 3,
       "unit": "it",
       "unit_divisor": 1000,
       "unit_scale": false
      },
      "application/vnd.jupyter.widget-view+json": {
       "model_id": "",
       "version_major": 2,
       "version_minor": 0
      },
      "text/plain": [
       "  0%|          | 0/3 [00:00<?, ?it/s]"
      ]
     },
     "metadata": {},
     "output_type": "display_data"
    },
    {
     "data": {
      "application/json": {
       "ascii": false,
       "bar_format": null,
       "colour": null,
       "elapsed": 0.011334419250488281,
       "initial": 0,
       "n": 0,
       "ncols": null,
       "nrows": 112,
       "postfix": null,
       "prefix": "",
       "rate": null,
       "total": 2,
       "unit": "it",
       "unit_divisor": 1000,
       "unit_scale": false
      },
      "application/vnd.jupyter.widget-view+json": {
       "model_id": "",
       "version_major": 2,
       "version_minor": 0
      },
      "text/plain": [
       "  0%|          | 0/2 [00:00<?, ?it/s]"
      ]
     },
     "metadata": {},
     "output_type": "display_data"
    },
    {
     "data": {
      "application/json": {
       "ascii": false,
       "bar_format": null,
       "colour": null,
       "elapsed": 0.011230945587158203,
       "initial": 0,
       "n": 0,
       "ncols": null,
       "nrows": 112,
       "postfix": null,
       "prefix": "",
       "rate": null,
       "total": 1,
       "unit": "it",
       "unit_divisor": 1000,
       "unit_scale": false
      },
      "application/vnd.jupyter.widget-view+json": {
       "model_id": "",
       "version_major": 2,
       "version_minor": 0
      },
      "text/plain": [
       "  0%|          | 0/1 [00:00<?, ?it/s]"
      ]
     },
     "metadata": {},
     "output_type": "display_data"
    },
    {
     "data": {
      "application/json": {
       "ascii": false,
       "bar_format": null,
       "colour": null,
       "elapsed": 0.011363744735717773,
       "initial": 0,
       "n": 0,
       "ncols": null,
       "nrows": 112,
       "postfix": null,
       "prefix": "",
       "rate": null,
       "total": 1,
       "unit": "it",
       "unit_divisor": 1000,
       "unit_scale": false
      },
      "application/vnd.jupyter.widget-view+json": {
       "model_id": "",
       "version_major": 2,
       "version_minor": 0
      },
      "text/plain": [
       "  0%|          | 0/1 [00:00<?, ?it/s]"
      ]
     },
     "metadata": {},
     "output_type": "display_data"
    },
    {
     "data": {
      "application/json": {
       "ascii": false,
       "bar_format": null,
       "colour": null,
       "elapsed": 0.011446714401245117,
       "initial": 0,
       "n": 0,
       "ncols": null,
       "nrows": 112,
       "postfix": null,
       "prefix": "",
       "rate": null,
       "total": 2,
       "unit": "it",
       "unit_divisor": 1000,
       "unit_scale": false
      },
      "application/vnd.jupyter.widget-view+json": {
       "model_id": "",
       "version_major": 2,
       "version_minor": 0
      },
      "text/plain": [
       "  0%|          | 0/2 [00:00<?, ?it/s]"
      ]
     },
     "metadata": {},
     "output_type": "display_data"
    },
    {
     "data": {
      "application/json": {
       "ascii": false,
       "bar_format": null,
       "colour": null,
       "elapsed": 0.01123666763305664,
       "initial": 0,
       "n": 0,
       "ncols": null,
       "nrows": 112,
       "postfix": null,
       "prefix": "",
       "rate": null,
       "total": 1,
       "unit": "it",
       "unit_divisor": 1000,
       "unit_scale": false
      },
      "application/vnd.jupyter.widget-view+json": {
       "model_id": "",
       "version_major": 2,
       "version_minor": 0
      },
      "text/plain": [
       "  0%|          | 0/1 [00:00<?, ?it/s]"
      ]
     },
     "metadata": {},
     "output_type": "display_data"
    },
    {
     "data": {
      "application/json": {
       "ascii": false,
       "bar_format": null,
       "colour": null,
       "elapsed": 0.011322736740112305,
       "initial": 0,
       "n": 0,
       "ncols": null,
       "nrows": 112,
       "postfix": null,
       "prefix": "",
       "rate": null,
       "total": 1,
       "unit": "it",
       "unit_divisor": 1000,
       "unit_scale": false
      },
      "application/vnd.jupyter.widget-view+json": {
       "model_id": "",
       "version_major": 2,
       "version_minor": 0
      },
      "text/plain": [
       "  0%|          | 0/1 [00:00<?, ?it/s]"
      ]
     },
     "metadata": {},
     "output_type": "display_data"
    },
    {
     "data": {
      "application/json": {
       "ascii": false,
       "bar_format": null,
       "colour": null,
       "elapsed": 0.011403083801269531,
       "initial": 0,
       "n": 0,
       "ncols": null,
       "nrows": 112,
       "postfix": null,
       "prefix": "",
       "rate": null,
       "total": 2,
       "unit": "it",
       "unit_divisor": 1000,
       "unit_scale": false
      },
      "application/vnd.jupyter.widget-view+json": {
       "model_id": "",
       "version_major": 2,
       "version_minor": 0
      },
      "text/plain": [
       "  0%|          | 0/2 [00:00<?, ?it/s]"
      ]
     },
     "metadata": {},
     "output_type": "display_data"
    },
    {
     "data": {
      "application/json": {
       "ascii": false,
       "bar_format": null,
       "colour": null,
       "elapsed": 0.011156558990478516,
       "initial": 0,
       "n": 0,
       "ncols": null,
       "nrows": 112,
       "postfix": null,
       "prefix": "",
       "rate": null,
       "total": 1,
       "unit": "it",
       "unit_divisor": 1000,
       "unit_scale": false
      },
      "application/vnd.jupyter.widget-view+json": {
       "model_id": "",
       "version_major": 2,
       "version_minor": 0
      },
      "text/plain": [
       "  0%|          | 0/1 [00:00<?, ?it/s]"
      ]
     },
     "metadata": {},
     "output_type": "display_data"
    },
    {
     "data": {
      "application/json": {
       "ascii": false,
       "bar_format": null,
       "colour": null,
       "elapsed": 0.011333465576171875,
       "initial": 0,
       "n": 0,
       "ncols": null,
       "nrows": 112,
       "postfix": null,
       "prefix": "",
       "rate": null,
       "total": 1,
       "unit": "it",
       "unit_divisor": 1000,
       "unit_scale": false
      },
      "application/vnd.jupyter.widget-view+json": {
       "model_id": "",
       "version_major": 2,
       "version_minor": 0
      },
      "text/plain": [
       "  0%|          | 0/1 [00:00<?, ?it/s]"
      ]
     },
     "metadata": {},
     "output_type": "display_data"
    },
    {
     "data": {
      "application/json": {
       "ascii": false,
       "bar_format": null,
       "colour": null,
       "elapsed": 0.011432886123657227,
       "initial": 0,
       "n": 0,
       "ncols": null,
       "nrows": 112,
       "postfix": null,
       "prefix": "",
       "rate": null,
       "total": 1,
       "unit": "it",
       "unit_divisor": 1000,
       "unit_scale": false
      },
      "application/vnd.jupyter.widget-view+json": {
       "model_id": "",
       "version_major": 2,
       "version_minor": 0
      },
      "text/plain": [
       "  0%|          | 0/1 [00:00<?, ?it/s]"
      ]
     },
     "metadata": {},
     "output_type": "display_data"
    },
    {
     "data": {
      "application/json": {
       "ascii": false,
       "bar_format": null,
       "colour": null,
       "elapsed": 0.011088848114013672,
       "initial": 0,
       "n": 0,
       "ncols": null,
       "nrows": 112,
       "postfix": null,
       "prefix": "",
       "rate": null,
       "total": 3,
       "unit": "it",
       "unit_divisor": 1000,
       "unit_scale": false
      },
      "application/vnd.jupyter.widget-view+json": {
       "model_id": "",
       "version_major": 2,
       "version_minor": 0
      },
      "text/plain": [
       "  0%|          | 0/3 [00:00<?, ?it/s]"
      ]
     },
     "metadata": {},
     "output_type": "display_data"
    },
    {
     "data": {
      "application/json": {
       "ascii": false,
       "bar_format": null,
       "colour": null,
       "elapsed": 0.011125802993774414,
       "initial": 0,
       "n": 0,
       "ncols": null,
       "nrows": 112,
       "postfix": null,
       "prefix": "",
       "rate": null,
       "total": 2,
       "unit": "it",
       "unit_divisor": 1000,
       "unit_scale": false
      },
      "application/vnd.jupyter.widget-view+json": {
       "model_id": "",
       "version_major": 2,
       "version_minor": 0
      },
      "text/plain": [
       "  0%|          | 0/2 [00:00<?, ?it/s]"
      ]
     },
     "metadata": {},
     "output_type": "display_data"
    },
    {
     "data": {
      "application/json": {
       "ascii": false,
       "bar_format": null,
       "colour": null,
       "elapsed": 0.011134862899780273,
       "initial": 0,
       "n": 0,
       "ncols": null,
       "nrows": 112,
       "postfix": null,
       "prefix": "",
       "rate": null,
       "total": 1,
       "unit": "it",
       "unit_divisor": 1000,
       "unit_scale": false
      },
      "application/vnd.jupyter.widget-view+json": {
       "model_id": "",
       "version_major": 2,
       "version_minor": 0
      },
      "text/plain": [
       "  0%|          | 0/1 [00:00<?, ?it/s]"
      ]
     },
     "metadata": {},
     "output_type": "display_data"
    },
    {
     "data": {
      "application/json": {
       "ascii": false,
       "bar_format": null,
       "colour": null,
       "elapsed": 0.011330366134643555,
       "initial": 0,
       "n": 0,
       "ncols": null,
       "nrows": 112,
       "postfix": null,
       "prefix": "",
       "rate": null,
       "total": 1,
       "unit": "it",
       "unit_divisor": 1000,
       "unit_scale": false
      },
      "application/vnd.jupyter.widget-view+json": {
       "model_id": "",
       "version_major": 2,
       "version_minor": 0
      },
      "text/plain": [
       "  0%|          | 0/1 [00:00<?, ?it/s]"
      ]
     },
     "metadata": {},
     "output_type": "display_data"
    },
    {
     "data": {
      "application/json": {
       "ascii": false,
       "bar_format": null,
       "colour": null,
       "elapsed": 0.011542320251464844,
       "initial": 0,
       "n": 0,
       "ncols": null,
       "nrows": 112,
       "postfix": null,
       "prefix": "",
       "rate": null,
       "total": 2,
       "unit": "it",
       "unit_divisor": 1000,
       "unit_scale": false
      },
      "application/vnd.jupyter.widget-view+json": {
       "model_id": "",
       "version_major": 2,
       "version_minor": 0
      },
      "text/plain": [
       "  0%|          | 0/2 [00:00<?, ?it/s]"
      ]
     },
     "metadata": {},
     "output_type": "display_data"
    },
    {
     "data": {
      "application/json": {
       "ascii": false,
       "bar_format": null,
       "colour": null,
       "elapsed": 0.01130533218383789,
       "initial": 0,
       "n": 0,
       "ncols": null,
       "nrows": 112,
       "postfix": null,
       "prefix": "",
       "rate": null,
       "total": 1,
       "unit": "it",
       "unit_divisor": 1000,
       "unit_scale": false
      },
      "application/vnd.jupyter.widget-view+json": {
       "model_id": "",
       "version_major": 2,
       "version_minor": 0
      },
      "text/plain": [
       "  0%|          | 0/1 [00:00<?, ?it/s]"
      ]
     },
     "metadata": {},
     "output_type": "display_data"
    },
    {
     "data": {
      "application/json": {
       "ascii": false,
       "bar_format": null,
       "colour": null,
       "elapsed": 0.011287927627563477,
       "initial": 0,
       "n": 0,
       "ncols": null,
       "nrows": 112,
       "postfix": null,
       "prefix": "",
       "rate": null,
       "total": 1,
       "unit": "it",
       "unit_divisor": 1000,
       "unit_scale": false
      },
      "application/vnd.jupyter.widget-view+json": {
       "model_id": "",
       "version_major": 2,
       "version_minor": 0
      },
      "text/plain": [
       "  0%|          | 0/1 [00:00<?, ?it/s]"
      ]
     },
     "metadata": {},
     "output_type": "display_data"
    },
    {
     "data": {
      "application/json": {
       "ascii": false,
       "bar_format": null,
       "colour": null,
       "elapsed": 0.011284351348876953,
       "initial": 0,
       "n": 0,
       "ncols": null,
       "nrows": 112,
       "postfix": null,
       "prefix": "",
       "rate": null,
       "total": 2,
       "unit": "it",
       "unit_divisor": 1000,
       "unit_scale": false
      },
      "application/vnd.jupyter.widget-view+json": {
       "model_id": "",
       "version_major": 2,
       "version_minor": 0
      },
      "text/plain": [
       "  0%|          | 0/2 [00:00<?, ?it/s]"
      ]
     },
     "metadata": {},
     "output_type": "display_data"
    },
    {
     "data": {
      "application/json": {
       "ascii": false,
       "bar_format": null,
       "colour": null,
       "elapsed": 0.011084318161010742,
       "initial": 0,
       "n": 0,
       "ncols": null,
       "nrows": 112,
       "postfix": null,
       "prefix": "",
       "rate": null,
       "total": 1,
       "unit": "it",
       "unit_divisor": 1000,
       "unit_scale": false
      },
      "application/vnd.jupyter.widget-view+json": {
       "model_id": "",
       "version_major": 2,
       "version_minor": 0
      },
      "text/plain": [
       "  0%|          | 0/1 [00:00<?, ?it/s]"
      ]
     },
     "metadata": {},
     "output_type": "display_data"
    },
    {
     "data": {
      "application/json": {
       "ascii": false,
       "bar_format": null,
       "colour": null,
       "elapsed": 0.011313438415527344,
       "initial": 0,
       "n": 0,
       "ncols": null,
       "nrows": 112,
       "postfix": null,
       "prefix": "",
       "rate": null,
       "total": 1,
       "unit": "it",
       "unit_divisor": 1000,
       "unit_scale": false
      },
      "application/vnd.jupyter.widget-view+json": {
       "model_id": "",
       "version_major": 2,
       "version_minor": 0
      },
      "text/plain": [
       "  0%|          | 0/1 [00:00<?, ?it/s]"
      ]
     },
     "metadata": {},
     "output_type": "display_data"
    },
    {
     "data": {
      "application/json": {
       "ascii": false,
       "bar_format": null,
       "colour": null,
       "elapsed": 0.011290311813354492,
       "initial": 0,
       "n": 0,
       "ncols": null,
       "nrows": 112,
       "postfix": null,
       "prefix": "",
       "rate": null,
       "total": 1,
       "unit": "it",
       "unit_divisor": 1000,
       "unit_scale": false
      },
      "application/vnd.jupyter.widget-view+json": {
       "model_id": "",
       "version_major": 2,
       "version_minor": 0
      },
      "text/plain": [
       "  0%|          | 0/1 [00:00<?, ?it/s]"
      ]
     },
     "metadata": {},
     "output_type": "display_data"
    },
    {
     "data": {
      "application/json": {
       "ascii": false,
       "bar_format": null,
       "colour": null,
       "elapsed": 0.011118412017822266,
       "initial": 0,
       "n": 0,
       "ncols": null,
       "nrows": 112,
       "postfix": null,
       "prefix": "",
       "rate": null,
       "total": 3,
       "unit": "it",
       "unit_divisor": 1000,
       "unit_scale": false
      },
      "application/vnd.jupyter.widget-view+json": {
       "model_id": "",
       "version_major": 2,
       "version_minor": 0
      },
      "text/plain": [
       "  0%|          | 0/3 [00:00<?, ?it/s]"
      ]
     },
     "metadata": {},
     "output_type": "display_data"
    },
    {
     "data": {
      "application/json": {
       "ascii": false,
       "bar_format": null,
       "colour": null,
       "elapsed": 0.010997772216796875,
       "initial": 0,
       "n": 0,
       "ncols": null,
       "nrows": 112,
       "postfix": null,
       "prefix": "",
       "rate": null,
       "total": 2,
       "unit": "it",
       "unit_divisor": 1000,
       "unit_scale": false
      },
      "application/vnd.jupyter.widget-view+json": {
       "model_id": "",
       "version_major": 2,
       "version_minor": 0
      },
      "text/plain": [
       "  0%|          | 0/2 [00:00<?, ?it/s]"
      ]
     },
     "metadata": {},
     "output_type": "display_data"
    },
    {
     "data": {
      "application/json": {
       "ascii": false,
       "bar_format": null,
       "colour": null,
       "elapsed": 0.012092351913452148,
       "initial": 0,
       "n": 0,
       "ncols": null,
       "nrows": 112,
       "postfix": null,
       "prefix": "",
       "rate": null,
       "total": 1,
       "unit": "it",
       "unit_divisor": 1000,
       "unit_scale": false
      },
      "application/vnd.jupyter.widget-view+json": {
       "model_id": "",
       "version_major": 2,
       "version_minor": 0
      },
      "text/plain": [
       "  0%|          | 0/1 [00:00<?, ?it/s]"
      ]
     },
     "metadata": {},
     "output_type": "display_data"
    },
    {
     "data": {
      "application/json": {
       "ascii": false,
       "bar_format": null,
       "colour": null,
       "elapsed": 0.011254549026489258,
       "initial": 0,
       "n": 0,
       "ncols": null,
       "nrows": 112,
       "postfix": null,
       "prefix": "",
       "rate": null,
       "total": 1,
       "unit": "it",
       "unit_divisor": 1000,
       "unit_scale": false
      },
      "application/vnd.jupyter.widget-view+json": {
       "model_id": "",
       "version_major": 2,
       "version_minor": 0
      },
      "text/plain": [
       "  0%|          | 0/1 [00:00<?, ?it/s]"
      ]
     },
     "metadata": {},
     "output_type": "display_data"
    },
    {
     "data": {
      "application/json": {
       "ascii": false,
       "bar_format": null,
       "colour": null,
       "elapsed": 0.011317014694213867,
       "initial": 0,
       "n": 0,
       "ncols": null,
       "nrows": 112,
       "postfix": null,
       "prefix": "",
       "rate": null,
       "total": 2,
       "unit": "it",
       "unit_divisor": 1000,
       "unit_scale": false
      },
      "application/vnd.jupyter.widget-view+json": {
       "model_id": "",
       "version_major": 2,
       "version_minor": 0
      },
      "text/plain": [
       "  0%|          | 0/2 [00:00<?, ?it/s]"
      ]
     },
     "metadata": {},
     "output_type": "display_data"
    },
    {
     "data": {
      "application/json": {
       "ascii": false,
       "bar_format": null,
       "colour": null,
       "elapsed": 0.011315345764160156,
       "initial": 0,
       "n": 0,
       "ncols": null,
       "nrows": 112,
       "postfix": null,
       "prefix": "",
       "rate": null,
       "total": 1,
       "unit": "it",
       "unit_divisor": 1000,
       "unit_scale": false
      },
      "application/vnd.jupyter.widget-view+json": {
       "model_id": "",
       "version_major": 2,
       "version_minor": 0
      },
      "text/plain": [
       "  0%|          | 0/1 [00:00<?, ?it/s]"
      ]
     },
     "metadata": {},
     "output_type": "display_data"
    },
    {
     "data": {
      "application/json": {
       "ascii": false,
       "bar_format": null,
       "colour": null,
       "elapsed": 0.011375904083251953,
       "initial": 0,
       "n": 0,
       "ncols": null,
       "nrows": 112,
       "postfix": null,
       "prefix": "",
       "rate": null,
       "total": 1,
       "unit": "it",
       "unit_divisor": 1000,
       "unit_scale": false
      },
      "application/vnd.jupyter.widget-view+json": {
       "model_id": "",
       "version_major": 2,
       "version_minor": 0
      },
      "text/plain": [
       "  0%|          | 0/1 [00:00<?, ?it/s]"
      ]
     },
     "metadata": {},
     "output_type": "display_data"
    },
    {
     "data": {
      "application/json": {
       "ascii": false,
       "bar_format": null,
       "colour": null,
       "elapsed": 0.011107206344604492,
       "initial": 0,
       "n": 0,
       "ncols": null,
       "nrows": 112,
       "postfix": null,
       "prefix": "",
       "rate": null,
       "total": 2,
       "unit": "it",
       "unit_divisor": 1000,
       "unit_scale": false
      },
      "application/vnd.jupyter.widget-view+json": {
       "model_id": "",
       "version_major": 2,
       "version_minor": 0
      },
      "text/plain": [
       "  0%|          | 0/2 [00:00<?, ?it/s]"
      ]
     },
     "metadata": {},
     "output_type": "display_data"
    },
    {
     "data": {
      "application/json": {
       "ascii": false,
       "bar_format": null,
       "colour": null,
       "elapsed": 0.011072397232055664,
       "initial": 0,
       "n": 0,
       "ncols": null,
       "nrows": 112,
       "postfix": null,
       "prefix": "",
       "rate": null,
       "total": 1,
       "unit": "it",
       "unit_divisor": 1000,
       "unit_scale": false
      },
      "application/vnd.jupyter.widget-view+json": {
       "model_id": "",
       "version_major": 2,
       "version_minor": 0
      },
      "text/plain": [
       "  0%|          | 0/1 [00:00<?, ?it/s]"
      ]
     },
     "metadata": {},
     "output_type": "display_data"
    },
    {
     "data": {
      "application/json": {
       "ascii": false,
       "bar_format": null,
       "colour": null,
       "elapsed": 0.011086702346801758,
       "initial": 0,
       "n": 0,
       "ncols": null,
       "nrows": 112,
       "postfix": null,
       "prefix": "",
       "rate": null,
       "total": 1,
       "unit": "it",
       "unit_divisor": 1000,
       "unit_scale": false
      },
      "application/vnd.jupyter.widget-view+json": {
       "model_id": "",
       "version_major": 2,
       "version_minor": 0
      },
      "text/plain": [
       "  0%|          | 0/1 [00:00<?, ?it/s]"
      ]
     },
     "metadata": {},
     "output_type": "display_data"
    },
    {
     "data": {
      "text/html": [
       "<div>\n",
       "<style scoped>\n",
       "    .dataframe tbody tr th:only-of-type {\n",
       "        vertical-align: middle;\n",
       "    }\n",
       "\n",
       "    .dataframe tbody tr th {\n",
       "        vertical-align: top;\n",
       "    }\n",
       "\n",
       "    .dataframe thead th {\n",
       "        text-align: right;\n",
       "    }\n",
       "</style>\n",
       "<table border=\"1\" class=\"dataframe\">\n",
       "  <thead>\n",
       "    <tr style=\"text-align: right;\">\n",
       "      <th></th>\n",
       "      <th></th>\n",
       "      <th></th>\n",
       "      <th></th>\n",
       "      <th></th>\n",
       "      <th></th>\n",
       "      <th>score</th>\n",
       "      <th>fold</th>\n",
       "    </tr>\n",
       "    <tr>\n",
       "      <th>data</th>\n",
       "      <th>model</th>\n",
       "      <th>explainer</th>\n",
       "      <th>metric</th>\n",
       "      <th>section</th>\n",
       "      <th>instance_id</th>\n",
       "      <th></th>\n",
       "      <th></th>\n",
       "    </tr>\n",
       "  </thead>\n",
       "  <tbody>\n",
       "    <tr>\n",
       "      <th rowspan=\"5\" valign=\"top\">gazebase_all_sr1000_sl5000_savgol_maxvel1000_dxy</th>\n",
       "      <th rowspan=\"5\" valign=\"top\">eky2</th>\n",
       "      <th rowspan=\"5\" valign=\"top\">deeplift_zero</th>\n",
       "      <th rowspan=\"5\" valign=\"top\">top_2_percent_intersection</th>\n",
       "      <th rowspan=\"5\" valign=\"top\">basin</th>\n",
       "      <th>0</th>\n",
       "      <td>NaN</td>\n",
       "      <td>1</td>\n",
       "    </tr>\n",
       "    <tr>\n",
       "      <th>1</th>\n",
       "      <td>NaN</td>\n",
       "      <td>1</td>\n",
       "    </tr>\n",
       "    <tr>\n",
       "      <th>2</th>\n",
       "      <td>0.03</td>\n",
       "      <td>1</td>\n",
       "    </tr>\n",
       "    <tr>\n",
       "      <th>3</th>\n",
       "      <td>NaN</td>\n",
       "      <td>1</td>\n",
       "    </tr>\n",
       "    <tr>\n",
       "      <th>4</th>\n",
       "      <td>0.0</td>\n",
       "      <td>1</td>\n",
       "    </tr>\n",
       "    <tr>\n",
       "      <th>...</th>\n",
       "      <th>...</th>\n",
       "      <th>...</th>\n",
       "      <th>...</th>\n",
       "      <th>...</th>\n",
       "      <th>...</th>\n",
       "      <td>...</td>\n",
       "      <td>...</td>\n",
       "    </tr>\n",
       "    <tr>\n",
       "      <th rowspan=\"5\" valign=\"top\">potec_sr1000_sl1000_savgol_maxvel1000_dxy</th>\n",
       "      <th rowspan=\"5\" valign=\"top\">eky2</th>\n",
       "      <th rowspan=\"5\" valign=\"top\">lrp_epsilon0.25_only</th>\n",
       "      <th rowspan=\"5\" valign=\"top\">top_2_percent_intersection_concept_influence</th>\n",
       "      <th rowspan=\"5\" valign=\"top\">rise</th>\n",
       "      <th>107535</th>\n",
       "      <td>6.451613</td>\n",
       "      <td>11</td>\n",
       "    </tr>\n",
       "    <tr>\n",
       "      <th>107536</th>\n",
       "      <td>4.166667</td>\n",
       "      <td>11</td>\n",
       "    </tr>\n",
       "    <tr>\n",
       "      <th>107537</th>\n",
       "      <td>16.666667</td>\n",
       "      <td>11</td>\n",
       "    </tr>\n",
       "    <tr>\n",
       "      <th>107538</th>\n",
       "      <td>6.0</td>\n",
       "      <td>11</td>\n",
       "    </tr>\n",
       "    <tr>\n",
       "      <th>107539</th>\n",
       "      <td>8.333333</td>\n",
       "      <td>11</td>\n",
       "    </tr>\n",
       "  </tbody>\n",
       "</table>\n",
       "<p>12515256 rows × 2 columns</p>\n",
       "</div>"
      ],
      "text/plain": [
       "                                                                                                                                                  score  \\\n",
       "data                                             model explainer            metric                                       section instance_id              \n",
       "gazebase_all_sr1000_sl5000_savgol_maxvel1000_dxy eky2  deeplift_zero        top_2_percent_intersection                   basin   0                  NaN   \n",
       "                                                                                                                                 1                  NaN   \n",
       "                                                                                                                                 2                 0.03   \n",
       "                                                                                                                                 3                  NaN   \n",
       "                                                                                                                                 4                  0.0   \n",
       "...                                                                                                                                                 ...   \n",
       "potec_sr1000_sl1000_savgol_maxvel1000_dxy        eky2  lrp_epsilon0.25_only top_2_percent_intersection_concept_influence rise    107535        6.451613   \n",
       "                                                                                                                                 107536        4.166667   \n",
       "                                                                                                                                 107537       16.666667   \n",
       "                                                                                                                                 107538             6.0   \n",
       "                                                                                                                                 107539        8.333333   \n",
       "\n",
       "                                                                                                                                             fold  \n",
       "data                                             model explainer            metric                                       section instance_id       \n",
       "gazebase_all_sr1000_sl5000_savgol_maxvel1000_dxy eky2  deeplift_zero        top_2_percent_intersection                   basin   0              1  \n",
       "                                                                                                                                 1              1  \n",
       "                                                                                                                                 2              1  \n",
       "                                                                                                                                 3              1  \n",
       "                                                                                                                                 4              1  \n",
       "...                                                                                                                                           ...  \n",
       "potec_sr1000_sl1000_savgol_maxvel1000_dxy        eky2  lrp_epsilon0.25_only top_2_percent_intersection_concept_influence rise    107535        11  \n",
       "                                                                                                                                 107536        11  \n",
       "                                                                                                                                 107537        11  \n",
       "                                                                                                                                 107538        11  \n",
       "                                                                                                                                 107539        11  \n",
       "\n",
       "[12515256 rows x 2 columns]"
      ]
     },
     "metadata": {},
     "output_type": "display_data"
    }
   ],
   "source": [
    "scorepath_pattern = '/mnt/scratch/krakowczyk/workspace/xai-timeseries/evaluations/attribution_localization/{data_key}/{model_key}/{explainer_key}/{metric_key}/{segmentation_key}/scores.npy'\n",
    "\n",
    "for data_key in tqdm(data_keys):\n",
    "    for model_key in tqdm(model_keys.keys(), leave=False):\n",
    "        for explainer_key in tqdm(explainer_keys.keys(), leave=False):\n",
    "            for metric_key in tqdm(metric_keys.keys(), leave=False):\n",
    "                for segmentation_key in tqdm(segmentation_keys.keys(), leave=False):\n",
    "                    \n",
    "                    filepath = Path(scorepath_pattern.format(\n",
    "                        data_key=data_key,\n",
    "                        model_key=model_key,\n",
    "                        explainer_key=explainer_key,\n",
    "                        metric_key=metric_key,\n",
    "                        segmentation_key=segmentation_key,\n",
    "                        #issection_key=dissection_key,\n",
    "                    ))\n",
    "\n",
    "                    if filepath.exists():\n",
    "                        score = np.load(filepath)\n",
    "                        \n",
    "                        for section_id, section_name in sections.items():\n",
    "\n",
    "                            result_idx = data_key, model_key, explainer_key, metric_key, section_name\n",
    "                            scores.loc[result_idx, 'score'] = score[:, section_id]\n",
    "\n",
    "                    else:\n",
    "                        print(f'skip {filepath}')\n",
    "\n",
    "display(scores)"
   ]
  },
  {
   "cell_type": "code",
   "execution_count": 7,
   "id": "a206dc52",
   "metadata": {},
   "outputs": [
    {
     "data": {
      "text/html": [
       "<div>\n",
       "<style scoped>\n",
       "    .dataframe tbody tr th:only-of-type {\n",
       "        vertical-align: middle;\n",
       "    }\n",
       "\n",
       "    .dataframe tbody tr th {\n",
       "        vertical-align: top;\n",
       "    }\n",
       "\n",
       "    .dataframe thead th {\n",
       "        text-align: right;\n",
       "    }\n",
       "</style>\n",
       "<table border=\"1\" class=\"dataframe\">\n",
       "  <thead>\n",
       "    <tr style=\"text-align: right;\">\n",
       "      <th></th>\n",
       "      <th>data</th>\n",
       "      <th>model</th>\n",
       "      <th>explainer</th>\n",
       "      <th>metric</th>\n",
       "      <th>section</th>\n",
       "      <th>instance_id</th>\n",
       "      <th>score</th>\n",
       "      <th>fold</th>\n",
       "    </tr>\n",
       "  </thead>\n",
       "  <tbody>\n",
       "    <tr>\n",
       "      <th>0</th>\n",
       "      <td>GazeBase</td>\n",
       "      <td>EKY2</td>\n",
       "      <td>DL</td>\n",
       "      <td>top k intersection</td>\n",
       "      <td>basin</td>\n",
       "      <td>0</td>\n",
       "      <td>NaN</td>\n",
       "      <td>1</td>\n",
       "    </tr>\n",
       "    <tr>\n",
       "      <th>1</th>\n",
       "      <td>GazeBase</td>\n",
       "      <td>EKY2</td>\n",
       "      <td>DL</td>\n",
       "      <td>top k intersection</td>\n",
       "      <td>basin</td>\n",
       "      <td>1</td>\n",
       "      <td>NaN</td>\n",
       "      <td>1</td>\n",
       "    </tr>\n",
       "    <tr>\n",
       "      <th>2</th>\n",
       "      <td>GazeBase</td>\n",
       "      <td>EKY2</td>\n",
       "      <td>DL</td>\n",
       "      <td>top k intersection</td>\n",
       "      <td>basin</td>\n",
       "      <td>2</td>\n",
       "      <td>0.03</td>\n",
       "      <td>1</td>\n",
       "    </tr>\n",
       "    <tr>\n",
       "      <th>3</th>\n",
       "      <td>GazeBase</td>\n",
       "      <td>EKY2</td>\n",
       "      <td>DL</td>\n",
       "      <td>top k intersection</td>\n",
       "      <td>basin</td>\n",
       "      <td>3</td>\n",
       "      <td>NaN</td>\n",
       "      <td>1</td>\n",
       "    </tr>\n",
       "    <tr>\n",
       "      <th>4</th>\n",
       "      <td>GazeBase</td>\n",
       "      <td>EKY2</td>\n",
       "      <td>DL</td>\n",
       "      <td>top k intersection</td>\n",
       "      <td>basin</td>\n",
       "      <td>4</td>\n",
       "      <td>0.0</td>\n",
       "      <td>1</td>\n",
       "    </tr>\n",
       "    <tr>\n",
       "      <th>...</th>\n",
       "      <td>...</td>\n",
       "      <td>...</td>\n",
       "      <td>...</td>\n",
       "      <td>...</td>\n",
       "      <td>...</td>\n",
       "      <td>...</td>\n",
       "      <td>...</td>\n",
       "      <td>...</td>\n",
       "    </tr>\n",
       "    <tr>\n",
       "      <th>12515251</th>\n",
       "      <td>PoTeC</td>\n",
       "      <td>EKY2</td>\n",
       "      <td>LRP</td>\n",
       "      <td>concept influence</td>\n",
       "      <td>rise</td>\n",
       "      <td>107535</td>\n",
       "      <td>6.451613</td>\n",
       "      <td>11</td>\n",
       "    </tr>\n",
       "    <tr>\n",
       "      <th>12515252</th>\n",
       "      <td>PoTeC</td>\n",
       "      <td>EKY2</td>\n",
       "      <td>LRP</td>\n",
       "      <td>concept influence</td>\n",
       "      <td>rise</td>\n",
       "      <td>107536</td>\n",
       "      <td>4.166667</td>\n",
       "      <td>11</td>\n",
       "    </tr>\n",
       "    <tr>\n",
       "      <th>12515253</th>\n",
       "      <td>PoTeC</td>\n",
       "      <td>EKY2</td>\n",
       "      <td>LRP</td>\n",
       "      <td>concept influence</td>\n",
       "      <td>rise</td>\n",
       "      <td>107537</td>\n",
       "      <td>16.666667</td>\n",
       "      <td>11</td>\n",
       "    </tr>\n",
       "    <tr>\n",
       "      <th>12515254</th>\n",
       "      <td>PoTeC</td>\n",
       "      <td>EKY2</td>\n",
       "      <td>LRP</td>\n",
       "      <td>concept influence</td>\n",
       "      <td>rise</td>\n",
       "      <td>107538</td>\n",
       "      <td>6.0</td>\n",
       "      <td>11</td>\n",
       "    </tr>\n",
       "    <tr>\n",
       "      <th>12515255</th>\n",
       "      <td>PoTeC</td>\n",
       "      <td>EKY2</td>\n",
       "      <td>LRP</td>\n",
       "      <td>concept influence</td>\n",
       "      <td>rise</td>\n",
       "      <td>107539</td>\n",
       "      <td>8.333333</td>\n",
       "      <td>11</td>\n",
       "    </tr>\n",
       "  </tbody>\n",
       "</table>\n",
       "<p>12515256 rows × 8 columns</p>\n",
       "</div>"
      ],
      "text/plain": [
       "              data model explainer              metric section  instance_id  \\\n",
       "0         GazeBase  EKY2        DL  top k intersection   basin            0   \n",
       "1         GazeBase  EKY2        DL  top k intersection   basin            1   \n",
       "2         GazeBase  EKY2        DL  top k intersection   basin            2   \n",
       "3         GazeBase  EKY2        DL  top k intersection   basin            3   \n",
       "4         GazeBase  EKY2        DL  top k intersection   basin            4   \n",
       "...            ...   ...       ...                 ...     ...          ...   \n",
       "12515251     PoTeC  EKY2       LRP   concept influence    rise       107535   \n",
       "12515252     PoTeC  EKY2       LRP   concept influence    rise       107536   \n",
       "12515253     PoTeC  EKY2       LRP   concept influence    rise       107537   \n",
       "12515254     PoTeC  EKY2       LRP   concept influence    rise       107538   \n",
       "12515255     PoTeC  EKY2       LRP   concept influence    rise       107539   \n",
       "\n",
       "              score fold  \n",
       "0               NaN    1  \n",
       "1               NaN    1  \n",
       "2              0.03    1  \n",
       "3               NaN    1  \n",
       "4               0.0    1  \n",
       "...             ...  ...  \n",
       "12515251   6.451613   11  \n",
       "12515252   4.166667   11  \n",
       "12515253  16.666667   11  \n",
       "12515254        6.0   11  \n",
       "12515255   8.333333   11  \n",
       "\n",
       "[12515256 rows x 8 columns]"
      ]
     },
     "metadata": {},
     "output_type": "display_data"
    }
   ],
   "source": [
    "scores = scores.reset_index()\n",
    "\n",
    "scores.data = scores.data.map(data_keys)\n",
    "scores.model = scores.model.map(model_keys)\n",
    "scores.explainer = scores.explainer.map(explainer_keys)\n",
    "scores.metric = scores.metric.map(metric_keys)\n",
    "\n",
    "display(scores)"
   ]
  },
  {
   "cell_type": "code",
   "execution_count": 8,
   "id": "1e8cddb3",
   "metadata": {},
   "outputs": [
    {
     "name": "stdout",
     "output_type": "stream",
     "text": [
      "gazebase_all_sr1000_sl5000_savgol_maxvel1000_dxy\n"
     ]
    },
    {
     "name": "stderr",
     "output_type": "stream",
     "text": [
      "                                                                                                                                                                                                                                                                                                                                                                                                                                        \r"
     ]
    },
    {
     "name": "stdout",
     "output_type": "stream",
     "text": [
      "judo_sr1000_sl1000_savgol_maxvel1000_bxy\n"
     ]
    },
    {
     "name": "stderr",
     "output_type": "stream",
     "text": [
      "                                                                                                                                                                                                                                                                                                                                                                                                                                        \r"
     ]
    },
    {
     "name": "stdout",
     "output_type": "stream",
     "text": [
      "potec_sr1000_sl1000_savgol_maxvel1000_dxy\n"
     ]
    },
    {
     "name": "stderr",
     "output_type": "stream",
     "text": [
      "                                                                                                                                                                                                                                                                                                                                                                                                                                        \r"
     ]
    }
   ],
   "source": [
    "dissections = {}\n",
    "\n",
    "for data_key, data_name in data_keys.items():\n",
    "    print(data_key)\n",
    "    \n",
    "    dataset_velocities = velocities[data_key]\n",
    "    dataset_segmentation = segmentations[data_key]\n",
    "    dataset_properties = properties[data_key]\n",
    "    dataset_dissection = do_event_dissection(\n",
    "        dataset_velocities, dataset_segmentation, dataset_properties, show_progress=True)\n",
    "\n",
    "    dissections[data_key] = dataset_dissection"
   ]
  },
  {
   "cell_type": "code",
   "execution_count": 9,
   "id": "23c9f541",
   "metadata": {},
   "outputs": [],
   "source": [
    "plot_dirpath = Path('/home/krakowczyk/workspace/xai-timeseries/plots/event_dissection/')\n",
    "makedirs(plot_dirpath)"
   ]
  },
  {
   "cell_type": "code",
   "execution_count": 10,
   "id": "aeaf33ce",
   "metadata": {},
   "outputs": [],
   "source": [
    "def plot_sizes(figsize=(6,3)):\n",
    "    sns.set_theme(style = \"whitegrid\")#, font_scale=1.4)\n",
    "\n",
    "    fig, axs = plt.subplots(1, 3, figsize=figsize, sharex=True, sharey=True)\n",
    "    for plot_id, (data_key, data_name) in enumerate(data_keys.items()):\n",
    "        dataset_ax = axs[plot_id]\n",
    "\n",
    "        dataset_ax.set_title(data_name)\n",
    "        if plot_id == 0:\n",
    "            dataset_ax.set_ylabel('avg segmentation size')\n",
    "\n",
    "        dataset_velocities = velocities[data_key]\n",
    "        dataset_segmentation = segmentations[data_key]\n",
    "        dataset_properties = properties[data_key]\n",
    "        dataset_dissection = dissections[data_key]\n",
    "        \n",
    "        #section_names = [s for s in sections.values() if s != 'basin']\n",
    "        section_names = [s for s in sections.values()]\n",
    "        section_sizes = np.mean(dataset_dissection[:, [0, 1, 2, 3, 4, 5]], axis=(0,2))\n",
    "        \n",
    "        dataset_ax.bar(section_names, section_sizes)\n",
    "        \n",
    "        #dataset_ax.xaxis.set_ticks(section_names)\n",
    "        dataset_ax.set_xticklabels(\n",
    "            section_names,\n",
    "                   rotation=45, \n",
    "                   horizontalalignment='right',\n",
    "                   rotation_mode='anchor'\n",
    "                  )\n",
    "\n",
    "\n",
    "    plt.tight_layout(pad=0.8)\n",
    "    plt.subplots_adjust(hspace=0.1, wspace=0.1)\n",
    "    savepath = plot_dirpath / 'event-dissection-saccade-size.pdf'\n",
    "    plt.savefig(savepath)\n",
    "    print(savepath)\n",
    "    plt.show()\n"
   ]
  },
  {
   "cell_type": "code",
   "execution_count": 11,
   "id": "020e4334",
   "metadata": {},
   "outputs": [
    {
     "name": "stderr",
     "output_type": "stream",
     "text": [
      "/tmp/ipykernel_3413573/154879325.py:24: UserWarning: FixedFormatter should only be used together with FixedLocator\n",
      "  dataset_ax.set_xticklabels(\n"
     ]
    },
    {
     "name": "stdout",
     "output_type": "stream",
     "text": [
      "/home/krakowczyk/workspace/xai-timeseries/plots/event_dissection/event-dissection-saccade-size.pdf\n"
     ]
    },
    {
     "data": {
      "image/png": "[encoded data removed]",
      "text/plain": [
       "<Figure size 600x300 with 3 Axes>"
      ]
     },
     "metadata": {},
     "output_type": "display_data"
    }
   ],
   "source": [
    "plot_sizes()"
   ]
  },
  {
   "cell_type": "code",
   "execution_count": 21,
   "id": "2102262b",
   "metadata": {},
   "outputs": [],
   "source": [
    "import matplotlib as mpl\n",
    "\n",
    "def plot_metrics(figsize=(6,5)):\n",
    "    sns.set_theme(style = \"whitegrid\", font_scale=1.3)\n",
    "    #sns.set_style({'legend.frameon':False})\n",
    "\n",
    "    for metric_key, metric_name in metric_keys.items():\n",
    "\n",
    "        fig, axs = plt.subplots(1, 3, figsize=figsize, sharex=True, sharey=True)\n",
    "        for plot_id, (data_key, data_name) in enumerate(data_keys.items()):\n",
    "            dataset_ax = axs[plot_id]\n",
    "\n",
    "            dataset_ax.set_title(data_name)\n",
    "            if plot_id == 0:\n",
    "                dataset_ax.set_ylabel(metric_name)\n",
    "\n",
    "            this_scores = scores[\n",
    "                (scores.data == data_name) &\n",
    "                (scores.metric == metric_name)# &\n",
    "                #(scores.section != 'basin')\n",
    "            ]\n",
    "            sns.boxplot(\n",
    "                data=this_scores,\n",
    "                x='section',\n",
    "                y='score',\n",
    "                hue='explainer',\n",
    "                ax=dataset_ax,\n",
    "                showfliers=False,\n",
    "                palette='deep',\n",
    "                #order=['pre', 'rise', 'peak', 'basin', 'fall', 'post']\n",
    "                order=['pre', 'rise', 'peak', 'fall', 'post']\n",
    "            )\n",
    "            \n",
    "            dataset_ax.xaxis.set_minor_locator(mpl.ticker.AutoMinorLocator(n=2))\n",
    "            dataset_ax.set_xticklabels(dataset_ax.get_xticklabels(), \n",
    "                       rotation=45, \n",
    "                       horizontalalignment='right',\n",
    "                       rotation_mode='anchor'\n",
    "                      )\n",
    "            \n",
    "            dataset_ax.grid(False, which='major', axis='x')\n",
    "            dataset_ax.grid(True, which='minor', axis='x')\n",
    "            dataset_ax.grid(True, which='major', axis='y')\n",
    "            dataset_ax.grid(False, which='minor', axis='y')\n",
    "            dataset_ax.spines['top'].set_visible(False)\n",
    "\n",
    "            dataset_ax.axhline(1, color='gray', linestyle='--')\n",
    "            \n",
    "            \n",
    "            dataset_ax.set_xlabel(None)\n",
    "            \n",
    "            if plot_id == 0:\n",
    "                dataset_ax.set_ylabel(metric_name)\n",
    "            else:\n",
    "                dataset_ax.set_ylabel(None)\n",
    "\n",
    "            if plot_id != 2:\n",
    "                dataset_ax.get_legend().remove()\n",
    "            else:\n",
    "                dataset_ax.get_legend().remove()\n",
    "                #plt.legend(title=None)\n",
    "              \n",
    "        plt.tight_layout(pad=0.8)\n",
    "\n",
    "        ax = plt.gca()\n",
    "        ax.legend(\n",
    "            ncol=3,\n",
    "            loc='center', \n",
    "            bbox_to_anchor=(-0.75, -0.3),\n",
    "        )\n",
    "        #ax.legend(bbox_to_anchor=(1.05, 1.05))\n",
    "        \n",
    "        plt.subplots_adjust(hspace=0.1, wspace=0.1)\n",
    "        \n",
    "        savepath = plot_dirpath / f'event-dissection-saccade-{metric_key}.pdf'\n",
    "        plt.savefig(savepath, bbox_inches='tight')\n",
    "        print(savepath)\n",
    "        plt.show()\n"
   ]
  },
  {
   "cell_type": "code",
   "execution_count": 22,
   "id": "a6411f16",
   "metadata": {
    "scrolled": false
   },
   "outputs": [
    {
     "name": "stdout",
     "output_type": "stream",
     "text": [
      "/home/krakowczyk/workspace/xai-timeseries/plots/event_dissection/event-dissection-saccade-top_2_percent_intersection.pdf\n"
     ]
    },
    {
     "data": {
      "image/png": "[encoded data removed]",
      "text/plain": [
       "<Figure size 600x500 with 3 Axes>"
      ]
     },
     "metadata": {},
     "output_type": "display_data"
    },
    {
     "name": "stdout",
     "output_type": "stream",
     "text": [
      "/home/krakowczyk/workspace/xai-timeseries/plots/event_dissection/event-dissection-saccade-top_2_percent_intersection_concept_influence.pdf\n"
     ]
    },
    {
     "data": {
      "image/png": "[encoded data removed]",
      "text/plain": [
       "<Figure size 600x500 with 3 Axes>"
      ]
     },
     "metadata": {},
     "output_type": "display_data"
    }
   ],
   "source": [
    "plot_metrics()"
   ]
  }
 ],
 "metadata": {
  "kernelspec": {
   "display_name": "cuda113",
   "language": "python",
   "name": "cu113"
  },
  "language_info": {
   "codemirror_mode": {
    "name": "ipython",
    "version": 3
   },
   "file_extension": ".py",
   "mimetype": "text/x-python",
   "name": "python",
   "nbconvert_exporter": "python",
   "pygments_lexer": "ipython3",
   "version": "3.9.12"
  }
 },
 "nbformat": 4,
 "nbformat_minor": 5
}
