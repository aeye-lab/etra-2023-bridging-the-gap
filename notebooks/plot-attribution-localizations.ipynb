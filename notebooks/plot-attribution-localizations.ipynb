{
 "cells": [
  {
   "cell_type": "code",
   "execution_count": 1,
   "id": "5277addb",
   "metadata": {},
   "outputs": [],
   "source": [
    "import fix_project_path\n",
    "\n",
    "import os\n",
    "from itertools import combinations\n",
    "from pathlib import Path\n",
    "\n",
    "import matplotlib.pyplot as plt\n",
    "import numpy as np\n",
    "import pandas as pd\n",
    "from scipy.stats import wilcoxon\n",
    "import seaborn as sns\n",
    "from tqdm.notebook import tqdm\n",
    "\n",
    "from config import basepaths\n",
    "from config import Config\n",
    "from datasets.loader import load_data, DataFoldFactory\n",
    "from experiment import ExperimentKeys\n",
    "from paths import ExperimentPaths, makedirs\n",
    "\n",
    "%load_ext autoreload\n",
    "%autoreload 2"
   ]
  },
  {
   "cell_type": "code",
   "execution_count": 2,
   "id": "63b4989e",
   "metadata": {},
   "outputs": [],
   "source": [
    "data_keys = {\n",
    "    #'gazebase_all_sr1000_sl1000_dxy': \"GazeBase (1000 s)\",\n",
    "    'gazebase_all_sr1000_sl5000_savgol_maxvel1000_dxy': \"GazeBase\",# (5000 s)\",\n",
    "    #'judo_sr1000_sl1000_rxy': \"JuDo1000 (right eye)\",\n",
    "    'judo_sr1000_sl1000_savgol_maxvel1000_bxy': \"JuDo1000\",# (both eyes)\",\n",
    "    'potec_sr1000_sl1000_savgol_maxvel1000_dxy': \"PoTeC\",\n",
    "}\n",
    "\n",
    "model_keys = {\n",
    "    'eky2': \"EKY2\",\n",
    "    #'del_slow': \"DELslow\",\n",
    "    #'del_fast_zstd': \"DELfast0\",\n",
    "    #'del_zstd': \"DEL0\",\n",
    "    #'del_fast_vmin1': \"DELfast1\",\n",
    "    #'del_vmin1': \"DEL1\",\n",
    "    #'del_fast_vmin4': \"DELfast\",\n",
    "    #'del_vmin4': \"DEL\",\n",
    "    #'del_fast_vmin10': \"DELfast10\",\n",
    "    #'del_vmin10': \"DEL\",\n",
    "    #'del_fast': \"DELfast40\",\n",
    "    #'del': \"DEL40\",\n",
    "}\n",
    "\n",
    "explainer_keys = {\n",
    "    'deeplift_zero': 'DL',\n",
    "    #'input_x_gradient': 'IxG',\n",
    "    'integrated_gradients_zero': 'IG',\n",
    "    #'occlusion_s3': 'Occ(3)',\n",
    "    #'occlusion_s5': 'Occ(5)',\n",
    "\n",
    "    #'lrp_epsilon0_only': 'LRP-ε0',\n",
    "    'lrp_epsilon0.25_only': 'LRP',#-Ε',\n",
    "    #'lrp_epsilon1e-6_only': 'LRP-ε',\n",
    "    \n",
    "    #'lrp_epsilon_plus': 'LRP-ε+',\n",
    "    #'lrp_epsilon_plus_flat': 'LRP-ε+♭',\n",
    "    \n",
    "    #'lrp_epsilon_gamma0.25': 'LRP-γ',\n",
    "    #'lrp_epsilon_gamma0.25_flat': 'LRP-γ♭',\n",
    "    #'lrp_epsilon_gamma0.1': 'LRP-εγ.1',\n",
    "    #'lrp_epsilon_gamma0.1_flat': 'LRP-εγ.1♭',\n",
    "\n",
    "    #'lrp_epsilon_alpha2_beta1': 'LRP-α2β1',\n",
    "    #'lrp_epsilon_alpha2_beta1_flat': 'LRP-α2β1♭',\n",
    "    #'lrp_epsilon_alpha1_beta0': 'LRP-α1β0',\n",
    "    #'lrp_epsilon_alpha1_beta0_flat': 'LRP-α1β0♭',\n",
    "}\n",
    "\n",
    "metric_keys = {\n",
    "    #'area_under_curve': 'score',\n",
    "    #'attribution_localisation': 'score',\n",
    "    #'attribution_localisation_weighted': 'score',\n",
    "    #'localized_attribution_aggregate_max': 'score',\n",
    "    #'localized_attribution_aggregate_mean': 'score',\n",
    "    #'localized_attribution_aggregate_median': 'score',\n",
    "    #'pointing_game': 'score',\n",
    "    #'pointing_game_weighted': 'score',\n",
    "    #'relevance_mass_accuracy': 'score',\n",
    "    #'top_1_percent_intersection': 'score',\n",
    "    #'top_1_percent_intersection_concept_influence': 'score',\n",
    "    'top_2_percent_intersection': 'top k intersection',\n",
    "    'top_2_percent_intersection_concept_influence': 'concept influence',\n",
    "    #'top_5_percent_intersection': 'score',\n",
    "    #'top_5_percent_intersection_concept_influence': 'score',\n",
    "    #'top_10_percent_intersection': 'score',\n",
    "    #'top_10_percent_intersection_concept_influence': 'score',\n",
    "    #'top_20_percent_intersection': 'score',\n",
    "    #'top_20_percent_intersection_concept_influence': 'score',\n",
    "}\n",
    "\n",
    "segmentation_keys = {\n",
    "    'ivt.fixation': 'fixation',\n",
    "    'engbert.saccade': 'saccade',\n",
    "    #'clip': 'clip',\n",
    "    #'nan': 'nan',\n",
    "    #'unclassified': 'unclassified',\n",
    "}"
   ]
  },
  {
   "cell_type": "code",
   "execution_count": 3,
   "id": "a4ede28c",
   "metadata": {},
   "outputs": [],
   "source": [
    "eval_rootdir = Path('/mnt/scratch/krakowczyk/workspace/xai-timeseries/evaluations/attribution_localization/')\n",
    "plot_dirpath = Path('/home/krakowczyk/workspace/xai-timeseries/plots/attribution_localizations/')\n",
    "\n",
    "makedirs(plot_dirpath)"
   ]
  },
  {
   "cell_type": "code",
   "execution_count": 4,
   "id": "3f417c3d",
   "metadata": {},
   "outputs": [
    {
     "data": {
      "application/json": {
       "ascii": false,
       "bar_format": null,
       "colour": null,
       "elapsed": 0.01563262939453125,
       "initial": 0,
       "n": 0,
       "ncols": null,
       "nrows": 112,
       "postfix": null,
       "prefix": "",
       "rate": null,
       "total": 3,
       "unit": "it",
       "unit_divisor": 1000,
       "unit_scale": false
      },
      "application/vnd.jupyter.widget-view+json": {
       "model_id": "62978425f3154465920f3ba2f7af923e",
       "version_major": 2,
       "version_minor": 0
      },
      "text/plain": [
       "  0%|          | 0/3 [00:00<?, ?it/s]"
      ]
     },
     "metadata": {},
     "output_type": "display_data"
    },
    {
     "name": "stdout",
     "output_type": "stream",
     "text": [
      "Selected input channels: ['dx', 'dy']\n",
      "X.shape: (67483, 5000, 2)\n",
      "Y.shape: (67483, 100)\n",
      "Folds: [1, 2, 3, 4]\n",
      "Selected input channels: ['dxr', 'dyr', 'dxl', 'dyl']\n",
      "X.shape: (172623, 1000, 4)\n",
      "Y.shape: (172623, 150)\n",
      "Folds: [1, 2, 3, 4]\n",
      "Selected input channels: ['dx', 'dy']\n",
      "X.shape: (107540, 1000, 2)\n",
      "Y.shape: (107540, 75)\n",
      "Folds: [0, 1, 2, 3, 4, 5, 6, 7, 8, 9, 10, 11]\n"
     ]
    }
   ],
   "source": [
    "fold_indices = {}\n",
    "dataset_sizes = {}\n",
    "\n",
    "for data_key in tqdm(data_keys):\n",
    "    keys = ExperimentKeys(data_key=data_key)\n",
    "    config = Config(experiment_keys=keys)\n",
    "    paths = ExperimentPaths(basepath=basepaths.workspace, config=config)\n",
    "    data = load_data(config=config, paths=paths)\n",
    "    \n",
    "    fold_indices[data_key] = data['folds']\n",
    "    dataset_sizes[data_key] = len(data['X'])"
   ]
  },
  {
   "cell_type": "code",
   "execution_count": 5,
   "id": "efbb4e37",
   "metadata": {},
   "outputs": [
    {
     "data": {
      "text/html": [
       "<div>\n",
       "<style scoped>\n",
       "    .dataframe tbody tr th:only-of-type {\n",
       "        vertical-align: middle;\n",
       "    }\n",
       "\n",
       "    .dataframe tbody tr th {\n",
       "        vertical-align: top;\n",
       "    }\n",
       "\n",
       "    .dataframe thead th {\n",
       "        text-align: right;\n",
       "    }\n",
       "</style>\n",
       "<table border=\"1\" class=\"dataframe\">\n",
       "  <thead>\n",
       "    <tr style=\"text-align: right;\">\n",
       "      <th></th>\n",
       "      <th></th>\n",
       "      <th></th>\n",
       "      <th></th>\n",
       "      <th></th>\n",
       "      <th></th>\n",
       "      <th>score</th>\n",
       "      <th>fold</th>\n",
       "    </tr>\n",
       "    <tr>\n",
       "      <th>data</th>\n",
       "      <th>model</th>\n",
       "      <th>explainer</th>\n",
       "      <th>metric</th>\n",
       "      <th>segmentation</th>\n",
       "      <th>instance_id</th>\n",
       "      <th></th>\n",
       "      <th></th>\n",
       "    </tr>\n",
       "  </thead>\n",
       "  <tbody>\n",
       "    <tr>\n",
       "      <th rowspan=\"5\" valign=\"top\">gazebase_all_sr1000_sl5000_savgol_maxvel1000_dxy</th>\n",
       "      <th rowspan=\"5\" valign=\"top\">eky2</th>\n",
       "      <th rowspan=\"5\" valign=\"top\">deeplift_zero</th>\n",
       "      <th rowspan=\"5\" valign=\"top\">top_2_percent_intersection</th>\n",
       "      <th rowspan=\"5\" valign=\"top\">engbert.saccade</th>\n",
       "      <th>0</th>\n",
       "      <td>1</td>\n",
       "      <td>1</td>\n",
       "    </tr>\n",
       "    <tr>\n",
       "      <th>1</th>\n",
       "      <td>1</td>\n",
       "      <td>1</td>\n",
       "    </tr>\n",
       "    <tr>\n",
       "      <th>2</th>\n",
       "      <td>1</td>\n",
       "      <td>1</td>\n",
       "    </tr>\n",
       "    <tr>\n",
       "      <th>3</th>\n",
       "      <td>1</td>\n",
       "      <td>1</td>\n",
       "    </tr>\n",
       "    <tr>\n",
       "      <th>4</th>\n",
       "      <td>1</td>\n",
       "      <td>1</td>\n",
       "    </tr>\n",
       "    <tr>\n",
       "      <th>...</th>\n",
       "      <th>...</th>\n",
       "      <th>...</th>\n",
       "      <th>...</th>\n",
       "      <th>...</th>\n",
       "      <th>...</th>\n",
       "      <td>...</td>\n",
       "      <td>...</td>\n",
       "    </tr>\n",
       "    <tr>\n",
       "      <th rowspan=\"5\" valign=\"top\">potec_sr1000_sl1000_savgol_maxvel1000_dxy</th>\n",
       "      <th rowspan=\"5\" valign=\"top\">eky2</th>\n",
       "      <th rowspan=\"5\" valign=\"top\">lrp_epsilon0.25_only</th>\n",
       "      <th rowspan=\"5\" valign=\"top\">top_2_percent_intersection_concept_influence</th>\n",
       "      <th rowspan=\"5\" valign=\"top\">ivt.fixation</th>\n",
       "      <th>107535</th>\n",
       "      <td>11</td>\n",
       "      <td>11</td>\n",
       "    </tr>\n",
       "    <tr>\n",
       "      <th>107536</th>\n",
       "      <td>11</td>\n",
       "      <td>11</td>\n",
       "    </tr>\n",
       "    <tr>\n",
       "      <th>107537</th>\n",
       "      <td>11</td>\n",
       "      <td>11</td>\n",
       "    </tr>\n",
       "    <tr>\n",
       "      <th>107538</th>\n",
       "      <td>11</td>\n",
       "      <td>11</td>\n",
       "    </tr>\n",
       "    <tr>\n",
       "      <th>107539</th>\n",
       "      <td>11</td>\n",
       "      <td>11</td>\n",
       "    </tr>\n",
       "  </tbody>\n",
       "</table>\n",
       "<p>4171752 rows × 2 columns</p>\n",
       "</div>"
      ],
      "text/plain": [
       "                                                                                                                                                     score  \\\n",
       "data                                             model explainer            metric                                       segmentation    instance_id         \n",
       "gazebase_all_sr1000_sl5000_savgol_maxvel1000_dxy eky2  deeplift_zero        top_2_percent_intersection                   engbert.saccade 0               1   \n",
       "                                                                                                                                         1               1   \n",
       "                                                                                                                                         2               1   \n",
       "                                                                                                                                         3               1   \n",
       "                                                                                                                                         4               1   \n",
       "...                                                                                                                                                    ...   \n",
       "potec_sr1000_sl1000_savgol_maxvel1000_dxy        eky2  lrp_epsilon0.25_only top_2_percent_intersection_concept_influence ivt.fixation    107535         11   \n",
       "                                                                                                                                         107536         11   \n",
       "                                                                                                                                         107537         11   \n",
       "                                                                                                                                         107538         11   \n",
       "                                                                                                                                         107539         11   \n",
       "\n",
       "                                                                                                                                                     fold  \n",
       "data                                             model explainer            metric                                       segmentation    instance_id       \n",
       "gazebase_all_sr1000_sl5000_savgol_maxvel1000_dxy eky2  deeplift_zero        top_2_percent_intersection                   engbert.saccade 0              1  \n",
       "                                                                                                                                         1              1  \n",
       "                                                                                                                                         2              1  \n",
       "                                                                                                                                         3              1  \n",
       "                                                                                                                                         4              1  \n",
       "...                                                                                                                                                   ...  \n",
       "potec_sr1000_sl1000_savgol_maxvel1000_dxy        eky2  lrp_epsilon0.25_only top_2_percent_intersection_concept_influence ivt.fixation    107535        11  \n",
       "                                                                                                                                         107536        11  \n",
       "                                                                                                                                         107537        11  \n",
       "                                                                                                                                         107538        11  \n",
       "                                                                                                                                         107539        11  \n",
       "\n",
       "[4171752 rows x 2 columns]"
      ]
     },
     "metadata": {},
     "output_type": "display_data"
    }
   ],
   "source": [
    "dfs = []\n",
    "\n",
    "for data_key in data_keys:\n",
    "    index = pd.MultiIndex.from_product(\n",
    "        iterables=[\n",
    "            [data_key],\n",
    "            model_keys.keys(),\n",
    "            explainer_keys.keys(),\n",
    "            metric_keys.keys(),\n",
    "            segmentation_keys.keys(),\n",
    "            range(dataset_sizes[data_key])\n",
    "        ],\n",
    "        names=['data', 'model', 'explainer', 'metric', 'segmentation', 'instance_id'],\n",
    "    )\n",
    "\n",
    "    df = pd.DataFrame(index=index, columns=['score', 'fold'])\n",
    "\n",
    "    for fold_id, fold_masks in fold_indices[data_key].items():\n",
    "        test_mask = fold_masks['test']\n",
    "        test_idx = np.where(test_mask)[0]\n",
    "        df.loc[df.index.get_level_values('instance_id').isin(test_idx)] = fold_id\n",
    "\n",
    "    dfs.append(df)\n",
    "\n",
    "df = pd.concat(dfs)\n",
    "del dfs\n",
    "\n",
    "df.sort_index(inplace=True)\n",
    "\n",
    "display(df)"
   ]
  },
  {
   "cell_type": "code",
   "execution_count": 6,
   "id": "0bee8b7b",
   "metadata": {
    "scrolled": true
   },
   "outputs": [
    {
     "data": {
      "application/json": {
       "ascii": false,
       "bar_format": null,
       "colour": null,
       "elapsed": 0.012447595596313477,
       "initial": 0,
       "n": 0,
       "ncols": null,
       "nrows": 112,
       "postfix": null,
       "prefix": "",
       "rate": null,
       "total": 3,
       "unit": "it",
       "unit_divisor": 1000,
       "unit_scale": false
      },
      "application/vnd.jupyter.widget-view+json": {
       "model_id": "adc1fc662e3f40cda26c8a0acc04c15c",
       "version_major": 2,
       "version_minor": 0
      },
      "text/plain": [
       "  0%|          | 0/3 [00:00<?, ?it/s]"
      ]
     },
     "metadata": {},
     "output_type": "display_data"
    },
    {
     "data": {
      "application/json": {
       "ascii": false,
       "bar_format": null,
       "colour": null,
       "elapsed": 0.01134347915649414,
       "initial": 0,
       "n": 0,
       "ncols": null,
       "nrows": 112,
       "postfix": null,
       "prefix": "",
       "rate": null,
       "total": 1,
       "unit": "it",
       "unit_divisor": 1000,
       "unit_scale": false
      },
      "application/vnd.jupyter.widget-view+json": {
       "model_id": "",
       "version_major": 2,
       "version_minor": 0
      },
      "text/plain": [
       "  0%|          | 0/1 [00:00<?, ?it/s]"
      ]
     },
     "metadata": {},
     "output_type": "display_data"
    },
    {
     "data": {
      "application/json": {
       "ascii": false,
       "bar_format": null,
       "colour": null,
       "elapsed": 0.011253833770751953,
       "initial": 0,
       "n": 0,
       "ncols": null,
       "nrows": 112,
       "postfix": null,
       "prefix": "",
       "rate": null,
       "total": 3,
       "unit": "it",
       "unit_divisor": 1000,
       "unit_scale": false
      },
      "application/vnd.jupyter.widget-view+json": {
       "model_id": "",
       "version_major": 2,
       "version_minor": 0
      },
      "text/plain": [
       "  0%|          | 0/3 [00:00<?, ?it/s]"
      ]
     },
     "metadata": {},
     "output_type": "display_data"
    },
    {
     "data": {
      "application/json": {
       "ascii": false,
       "bar_format": null,
       "colour": null,
       "elapsed": 0.011229515075683594,
       "initial": 0,
       "n": 0,
       "ncols": null,
       "nrows": 112,
       "postfix": null,
       "prefix": "",
       "rate": null,
       "total": 2,
       "unit": "it",
       "unit_divisor": 1000,
       "unit_scale": false
      },
      "application/vnd.jupyter.widget-view+json": {
       "model_id": "",
       "version_major": 2,
       "version_minor": 0
      },
      "text/plain": [
       "  0%|          | 0/2 [00:00<?, ?it/s]"
      ]
     },
     "metadata": {},
     "output_type": "display_data"
    },
    {
     "data": {
      "application/json": {
       "ascii": false,
       "bar_format": null,
       "colour": null,
       "elapsed": 0.01127314567565918,
       "initial": 0,
       "n": 0,
       "ncols": null,
       "nrows": 112,
       "postfix": null,
       "prefix": "",
       "rate": null,
       "total": 2,
       "unit": "it",
       "unit_divisor": 1000,
       "unit_scale": false
      },
      "application/vnd.jupyter.widget-view+json": {
       "model_id": "",
       "version_major": 2,
       "version_minor": 0
      },
      "text/plain": [
       "  0%|          | 0/2 [00:00<?, ?it/s]"
      ]
     },
     "metadata": {},
     "output_type": "display_data"
    },
    {
     "data": {
      "application/json": {
       "ascii": false,
       "bar_format": null,
       "colour": null,
       "elapsed": 0.012329578399658203,
       "initial": 0,
       "n": 0,
       "ncols": null,
       "nrows": 112,
       "postfix": null,
       "prefix": "",
       "rate": null,
       "total": 2,
       "unit": "it",
       "unit_divisor": 1000,
       "unit_scale": false
      },
      "application/vnd.jupyter.widget-view+json": {
       "model_id": "",
       "version_major": 2,
       "version_minor": 0
      },
      "text/plain": [
       "  0%|          | 0/2 [00:00<?, ?it/s]"
      ]
     },
     "metadata": {},
     "output_type": "display_data"
    },
    {
     "data": {
      "application/json": {
       "ascii": false,
       "bar_format": null,
       "colour": null,
       "elapsed": 0.011464118957519531,
       "initial": 0,
       "n": 0,
       "ncols": null,
       "nrows": 112,
       "postfix": null,
       "prefix": "",
       "rate": null,
       "total": 2,
       "unit": "it",
       "unit_divisor": 1000,
       "unit_scale": false
      },
      "application/vnd.jupyter.widget-view+json": {
       "model_id": "",
       "version_major": 2,
       "version_minor": 0
      },
      "text/plain": [
       "  0%|          | 0/2 [00:00<?, ?it/s]"
      ]
     },
     "metadata": {},
     "output_type": "display_data"
    },
    {
     "data": {
      "application/json": {
       "ascii": false,
       "bar_format": null,
       "colour": null,
       "elapsed": 0.011245489120483398,
       "initial": 0,
       "n": 0,
       "ncols": null,
       "nrows": 112,
       "postfix": null,
       "prefix": "",
       "rate": null,
       "total": 2,
       "unit": "it",
       "unit_divisor": 1000,
       "unit_scale": false
      },
      "application/vnd.jupyter.widget-view+json": {
       "model_id": "",
       "version_major": 2,
       "version_minor": 0
      },
      "text/plain": [
       "  0%|          | 0/2 [00:00<?, ?it/s]"
      ]
     },
     "metadata": {},
     "output_type": "display_data"
    },
    {
     "data": {
      "application/json": {
       "ascii": false,
       "bar_format": null,
       "colour": null,
       "elapsed": 0.011423349380493164,
       "initial": 0,
       "n": 0,
       "ncols": null,
       "nrows": 112,
       "postfix": null,
       "prefix": "",
       "rate": null,
       "total": 2,
       "unit": "it",
       "unit_divisor": 1000,
       "unit_scale": false
      },
      "application/vnd.jupyter.widget-view+json": {
       "model_id": "",
       "version_major": 2,
       "version_minor": 0
      },
      "text/plain": [
       "  0%|          | 0/2 [00:00<?, ?it/s]"
      ]
     },
     "metadata": {},
     "output_type": "display_data"
    },
    {
     "data": {
      "application/json": {
       "ascii": false,
       "bar_format": null,
       "colour": null,
       "elapsed": 0.011305809020996094,
       "initial": 0,
       "n": 0,
       "ncols": null,
       "nrows": 112,
       "postfix": null,
       "prefix": "",
       "rate": null,
       "total": 2,
       "unit": "it",
       "unit_divisor": 1000,
       "unit_scale": false
      },
      "application/vnd.jupyter.widget-view+json": {
       "model_id": "",
       "version_major": 2,
       "version_minor": 0
      },
      "text/plain": [
       "  0%|          | 0/2 [00:00<?, ?it/s]"
      ]
     },
     "metadata": {},
     "output_type": "display_data"
    },
    {
     "data": {
      "application/json": {
       "ascii": false,
       "bar_format": null,
       "colour": null,
       "elapsed": 0.01109933853149414,
       "initial": 0,
       "n": 0,
       "ncols": null,
       "nrows": 112,
       "postfix": null,
       "prefix": "",
       "rate": null,
       "total": 2,
       "unit": "it",
       "unit_divisor": 1000,
       "unit_scale": false
      },
      "application/vnd.jupyter.widget-view+json": {
       "model_id": "",
       "version_major": 2,
       "version_minor": 0
      },
      "text/plain": [
       "  0%|          | 0/2 [00:00<?, ?it/s]"
      ]
     },
     "metadata": {},
     "output_type": "display_data"
    },
    {
     "data": {
      "application/json": {
       "ascii": false,
       "bar_format": null,
       "colour": null,
       "elapsed": 0.011371135711669922,
       "initial": 0,
       "n": 0,
       "ncols": null,
       "nrows": 112,
       "postfix": null,
       "prefix": "",
       "rate": null,
       "total": 2,
       "unit": "it",
       "unit_divisor": 1000,
       "unit_scale": false
      },
      "application/vnd.jupyter.widget-view+json": {
       "model_id": "",
       "version_major": 2,
       "version_minor": 0
      },
      "text/plain": [
       "  0%|          | 0/2 [00:00<?, ?it/s]"
      ]
     },
     "metadata": {},
     "output_type": "display_data"
    },
    {
     "data": {
      "application/json": {
       "ascii": false,
       "bar_format": null,
       "colour": null,
       "elapsed": 0.011425018310546875,
       "initial": 0,
       "n": 0,
       "ncols": null,
       "nrows": 112,
       "postfix": null,
       "prefix": "",
       "rate": null,
       "total": 1,
       "unit": "it",
       "unit_divisor": 1000,
       "unit_scale": false
      },
      "application/vnd.jupyter.widget-view+json": {
       "model_id": "",
       "version_major": 2,
       "version_minor": 0
      },
      "text/plain": [
       "  0%|          | 0/1 [00:00<?, ?it/s]"
      ]
     },
     "metadata": {},
     "output_type": "display_data"
    },
    {
     "data": {
      "application/json": {
       "ascii": false,
       "bar_format": null,
       "colour": null,
       "elapsed": 0.011249542236328125,
       "initial": 0,
       "n": 0,
       "ncols": null,
       "nrows": 112,
       "postfix": null,
       "prefix": "",
       "rate": null,
       "total": 3,
       "unit": "it",
       "unit_divisor": 1000,
       "unit_scale": false
      },
      "application/vnd.jupyter.widget-view+json": {
       "model_id": "",
       "version_major": 2,
       "version_minor": 0
      },
      "text/plain": [
       "  0%|          | 0/3 [00:00<?, ?it/s]"
      ]
     },
     "metadata": {},
     "output_type": "display_data"
    },
    {
     "data": {
      "application/json": {
       "ascii": false,
       "bar_format": null,
       "colour": null,
       "elapsed": 0.011187076568603516,
       "initial": 0,
       "n": 0,
       "ncols": null,
       "nrows": 112,
       "postfix": null,
       "prefix": "",
       "rate": null,
       "total": 2,
       "unit": "it",
       "unit_divisor": 1000,
       "unit_scale": false
      },
      "application/vnd.jupyter.widget-view+json": {
       "model_id": "",
       "version_major": 2,
       "version_minor": 0
      },
      "text/plain": [
       "  0%|          | 0/2 [00:00<?, ?it/s]"
      ]
     },
     "metadata": {},
     "output_type": "display_data"
    },
    {
     "data": {
      "application/json": {
       "ascii": false,
       "bar_format": null,
       "colour": null,
       "elapsed": 0.011114120483398438,
       "initial": 0,
       "n": 0,
       "ncols": null,
       "nrows": 112,
       "postfix": null,
       "prefix": "",
       "rate": null,
       "total": 2,
       "unit": "it",
       "unit_divisor": 1000,
       "unit_scale": false
      },
      "application/vnd.jupyter.widget-view+json": {
       "model_id": "",
       "version_major": 2,
       "version_minor": 0
      },
      "text/plain": [
       "  0%|          | 0/2 [00:00<?, ?it/s]"
      ]
     },
     "metadata": {},
     "output_type": "display_data"
    },
    {
     "data": {
      "application/json": {
       "ascii": false,
       "bar_format": null,
       "colour": null,
       "elapsed": 0.0112762451171875,
       "initial": 0,
       "n": 0,
       "ncols": null,
       "nrows": 112,
       "postfix": null,
       "prefix": "",
       "rate": null,
       "total": 2,
       "unit": "it",
       "unit_divisor": 1000,
       "unit_scale": false
      },
      "application/vnd.jupyter.widget-view+json": {
       "model_id": "",
       "version_major": 2,
       "version_minor": 0
      },
      "text/plain": [
       "  0%|          | 0/2 [00:00<?, ?it/s]"
      ]
     },
     "metadata": {},
     "output_type": "display_data"
    },
    {
     "data": {
      "application/json": {
       "ascii": false,
       "bar_format": null,
       "colour": null,
       "elapsed": 0.011502265930175781,
       "initial": 0,
       "n": 0,
       "ncols": null,
       "nrows": 112,
       "postfix": null,
       "prefix": "",
       "rate": null,
       "total": 2,
       "unit": "it",
       "unit_divisor": 1000,
       "unit_scale": false
      },
      "application/vnd.jupyter.widget-view+json": {
       "model_id": "",
       "version_major": 2,
       "version_minor": 0
      },
      "text/plain": [
       "  0%|          | 0/2 [00:00<?, ?it/s]"
      ]
     },
     "metadata": {},
     "output_type": "display_data"
    },
    {
     "data": {
      "application/json": {
       "ascii": false,
       "bar_format": null,
       "colour": null,
       "elapsed": 0.012026309967041016,
       "initial": 0,
       "n": 0,
       "ncols": null,
       "nrows": 112,
       "postfix": null,
       "prefix": "",
       "rate": null,
       "total": 2,
       "unit": "it",
       "unit_divisor": 1000,
       "unit_scale": false
      },
      "application/vnd.jupyter.widget-view+json": {
       "model_id": "",
       "version_major": 2,
       "version_minor": 0
      },
      "text/plain": [
       "  0%|          | 0/2 [00:00<?, ?it/s]"
      ]
     },
     "metadata": {},
     "output_type": "display_data"
    },
    {
     "data": {
      "application/json": {
       "ascii": false,
       "bar_format": null,
       "colour": null,
       "elapsed": 0.011307477951049805,
       "initial": 0,
       "n": 0,
       "ncols": null,
       "nrows": 112,
       "postfix": null,
       "prefix": "",
       "rate": null,
       "total": 2,
       "unit": "it",
       "unit_divisor": 1000,
       "unit_scale": false
      },
      "application/vnd.jupyter.widget-view+json": {
       "model_id": "",
       "version_major": 2,
       "version_minor": 0
      },
      "text/plain": [
       "  0%|          | 0/2 [00:00<?, ?it/s]"
      ]
     },
     "metadata": {},
     "output_type": "display_data"
    },
    {
     "data": {
      "application/json": {
       "ascii": false,
       "bar_format": null,
       "colour": null,
       "elapsed": 0.011291980743408203,
       "initial": 0,
       "n": 0,
       "ncols": null,
       "nrows": 112,
       "postfix": null,
       "prefix": "",
       "rate": null,
       "total": 2,
       "unit": "it",
       "unit_divisor": 1000,
       "unit_scale": false
      },
      "application/vnd.jupyter.widget-view+json": {
       "model_id": "",
       "version_major": 2,
       "version_minor": 0
      },
      "text/plain": [
       "  0%|          | 0/2 [00:00<?, ?it/s]"
      ]
     },
     "metadata": {},
     "output_type": "display_data"
    },
    {
     "data": {
      "application/json": {
       "ascii": false,
       "bar_format": null,
       "colour": null,
       "elapsed": 0.011125564575195312,
       "initial": 0,
       "n": 0,
       "ncols": null,
       "nrows": 112,
       "postfix": null,
       "prefix": "",
       "rate": null,
       "total": 2,
       "unit": "it",
       "unit_divisor": 1000,
       "unit_scale": false
      },
      "application/vnd.jupyter.widget-view+json": {
       "model_id": "",
       "version_major": 2,
       "version_minor": 0
      },
      "text/plain": [
       "  0%|          | 0/2 [00:00<?, ?it/s]"
      ]
     },
     "metadata": {},
     "output_type": "display_data"
    },
    {
     "data": {
      "application/json": {
       "ascii": false,
       "bar_format": null,
       "colour": null,
       "elapsed": 0.011350870132446289,
       "initial": 0,
       "n": 0,
       "ncols": null,
       "nrows": 112,
       "postfix": null,
       "prefix": "",
       "rate": null,
       "total": 2,
       "unit": "it",
       "unit_divisor": 1000,
       "unit_scale": false
      },
      "application/vnd.jupyter.widget-view+json": {
       "model_id": "",
       "version_major": 2,
       "version_minor": 0
      },
      "text/plain": [
       "  0%|          | 0/2 [00:00<?, ?it/s]"
      ]
     },
     "metadata": {},
     "output_type": "display_data"
    },
    {
     "data": {
      "application/json": {
       "ascii": false,
       "bar_format": null,
       "colour": null,
       "elapsed": 0.011284112930297852,
       "initial": 0,
       "n": 0,
       "ncols": null,
       "nrows": 112,
       "postfix": null,
       "prefix": "",
       "rate": null,
       "total": 1,
       "unit": "it",
       "unit_divisor": 1000,
       "unit_scale": false
      },
      "application/vnd.jupyter.widget-view+json": {
       "model_id": "",
       "version_major": 2,
       "version_minor": 0
      },
      "text/plain": [
       "  0%|          | 0/1 [00:00<?, ?it/s]"
      ]
     },
     "metadata": {},
     "output_type": "display_data"
    },
    {
     "data": {
      "application/json": {
       "ascii": false,
       "bar_format": null,
       "colour": null,
       "elapsed": 0.011245489120483398,
       "initial": 0,
       "n": 0,
       "ncols": null,
       "nrows": 112,
       "postfix": null,
       "prefix": "",
       "rate": null,
       "total": 3,
       "unit": "it",
       "unit_divisor": 1000,
       "unit_scale": false
      },
      "application/vnd.jupyter.widget-view+json": {
       "model_id": "",
       "version_major": 2,
       "version_minor": 0
      },
      "text/plain": [
       "  0%|          | 0/3 [00:00<?, ?it/s]"
      ]
     },
     "metadata": {},
     "output_type": "display_data"
    },
    {
     "data": {
      "application/json": {
       "ascii": false,
       "bar_format": null,
       "colour": null,
       "elapsed": 0.010954856872558594,
       "initial": 0,
       "n": 0,
       "ncols": null,
       "nrows": 112,
       "postfix": null,
       "prefix": "",
       "rate": null,
       "total": 2,
       "unit": "it",
       "unit_divisor": 1000,
       "unit_scale": false
      },
      "application/vnd.jupyter.widget-view+json": {
       "model_id": "",
       "version_major": 2,
       "version_minor": 0
      },
      "text/plain": [
       "  0%|          | 0/2 [00:00<?, ?it/s]"
      ]
     },
     "metadata": {},
     "output_type": "display_data"
    },
    {
     "data": {
      "application/json": {
       "ascii": false,
       "bar_format": null,
       "colour": null,
       "elapsed": 0.010921716690063477,
       "initial": 0,
       "n": 0,
       "ncols": null,
       "nrows": 112,
       "postfix": null,
       "prefix": "",
       "rate": null,
       "total": 2,
       "unit": "it",
       "unit_divisor": 1000,
       "unit_scale": false
      },
      "application/vnd.jupyter.widget-view+json": {
       "model_id": "",
       "version_major": 2,
       "version_minor": 0
      },
      "text/plain": [
       "  0%|          | 0/2 [00:00<?, ?it/s]"
      ]
     },
     "metadata": {},
     "output_type": "display_data"
    },
    {
     "data": {
      "application/json": {
       "ascii": false,
       "bar_format": null,
       "colour": null,
       "elapsed": 0.011282205581665039,
       "initial": 0,
       "n": 0,
       "ncols": null,
       "nrows": 112,
       "postfix": null,
       "prefix": "",
       "rate": null,
       "total": 2,
       "unit": "it",
       "unit_divisor": 1000,
       "unit_scale": false
      },
      "application/vnd.jupyter.widget-view+json": {
       "model_id": "",
       "version_major": 2,
       "version_minor": 0
      },
      "text/plain": [
       "  0%|          | 0/2 [00:00<?, ?it/s]"
      ]
     },
     "metadata": {},
     "output_type": "display_data"
    },
    {
     "data": {
      "application/json": {
       "ascii": false,
       "bar_format": null,
       "colour": null,
       "elapsed": 0.011158943176269531,
       "initial": 0,
       "n": 0,
       "ncols": null,
       "nrows": 112,
       "postfix": null,
       "prefix": "",
       "rate": null,
       "total": 2,
       "unit": "it",
       "unit_divisor": 1000,
       "unit_scale": false
      },
      "application/vnd.jupyter.widget-view+json": {
       "model_id": "",
       "version_major": 2,
       "version_minor": 0
      },
      "text/plain": [
       "  0%|          | 0/2 [00:00<?, ?it/s]"
      ]
     },
     "metadata": {},
     "output_type": "display_data"
    },
    {
     "data": {
      "application/json": {
       "ascii": false,
       "bar_format": null,
       "colour": null,
       "elapsed": 0.010879278182983398,
       "initial": 0,
       "n": 0,
       "ncols": null,
       "nrows": 112,
       "postfix": null,
       "prefix": "",
       "rate": null,
       "total": 2,
       "unit": "it",
       "unit_divisor": 1000,
       "unit_scale": false
      },
      "application/vnd.jupyter.widget-view+json": {
       "model_id": "",
       "version_major": 2,
       "version_minor": 0
      },
      "text/plain": [
       "  0%|          | 0/2 [00:00<?, ?it/s]"
      ]
     },
     "metadata": {},
     "output_type": "display_data"
    },
    {
     "data": {
      "application/json": {
       "ascii": false,
       "bar_format": null,
       "colour": null,
       "elapsed": 0.011304855346679688,
       "initial": 0,
       "n": 0,
       "ncols": null,
       "nrows": 112,
       "postfix": null,
       "prefix": "",
       "rate": null,
       "total": 2,
       "unit": "it",
       "unit_divisor": 1000,
       "unit_scale": false
      },
      "application/vnd.jupyter.widget-view+json": {
       "model_id": "",
       "version_major": 2,
       "version_minor": 0
      },
      "text/plain": [
       "  0%|          | 0/2 [00:00<?, ?it/s]"
      ]
     },
     "metadata": {},
     "output_type": "display_data"
    },
    {
     "data": {
      "application/json": {
       "ascii": false,
       "bar_format": null,
       "colour": null,
       "elapsed": 0.011183500289916992,
       "initial": 0,
       "n": 0,
       "ncols": null,
       "nrows": 112,
       "postfix": null,
       "prefix": "",
       "rate": null,
       "total": 2,
       "unit": "it",
       "unit_divisor": 1000,
       "unit_scale": false
      },
      "application/vnd.jupyter.widget-view+json": {
       "model_id": "",
       "version_major": 2,
       "version_minor": 0
      },
      "text/plain": [
       "  0%|          | 0/2 [00:00<?, ?it/s]"
      ]
     },
     "metadata": {},
     "output_type": "display_data"
    },
    {
     "data": {
      "application/json": {
       "ascii": false,
       "bar_format": null,
       "colour": null,
       "elapsed": 0.01088404655456543,
       "initial": 0,
       "n": 0,
       "ncols": null,
       "nrows": 112,
       "postfix": null,
       "prefix": "",
       "rate": null,
       "total": 2,
       "unit": "it",
       "unit_divisor": 1000,
       "unit_scale": false
      },
      "application/vnd.jupyter.widget-view+json": {
       "model_id": "",
       "version_major": 2,
       "version_minor": 0
      },
      "text/plain": [
       "  0%|          | 0/2 [00:00<?, ?it/s]"
      ]
     },
     "metadata": {},
     "output_type": "display_data"
    },
    {
     "data": {
      "application/json": {
       "ascii": false,
       "bar_format": null,
       "colour": null,
       "elapsed": 0.011331796646118164,
       "initial": 0,
       "n": 0,
       "ncols": null,
       "nrows": 112,
       "postfix": null,
       "prefix": "",
       "rate": null,
       "total": 2,
       "unit": "it",
       "unit_divisor": 1000,
       "unit_scale": false
      },
      "application/vnd.jupyter.widget-view+json": {
       "model_id": "",
       "version_major": 2,
       "version_minor": 0
      },
      "text/plain": [
       "  0%|          | 0/2 [00:00<?, ?it/s]"
      ]
     },
     "metadata": {},
     "output_type": "display_data"
    }
   ],
   "source": [
    "for data_key in tqdm(data_keys):\n",
    "    for model_key in tqdm(model_keys.keys(), leave=False):\n",
    "        for explainer_key in tqdm(explainer_keys.keys(), leave=False):\n",
    "            for metric_key in tqdm(metric_keys.keys(), leave=False):\n",
    "                for segmentation_key in tqdm(segmentation_keys.keys(), leave=False):\n",
    "                    \n",
    "                    filepath = eval_rootdir / data_key / model_key / explainer_key / metric_key / segmentation_key / 'scores.npy'\n",
    "\n",
    "                    if filepath.exists():\n",
    "                        score = np.load(filepath)\n",
    "\n",
    "                        result_idx = data_key, model_key, explainer_key, metric_key, segmentation_key\n",
    "                        df.loc[result_idx, 'score'] = score\n",
    "                            \n",
    "                    else:\n",
    "                        print(f'skip {filepath}')\n",
    "\n"
   ]
  },
  {
   "cell_type": "code",
   "execution_count": 7,
   "id": "a16aedfc",
   "metadata": {
    "scrolled": true
   },
   "outputs": [
    {
     "data": {
      "text/html": [
       "<div>\n",
       "<style scoped>\n",
       "    .dataframe tbody tr th:only-of-type {\n",
       "        vertical-align: middle;\n",
       "    }\n",
       "\n",
       "    .dataframe tbody tr th {\n",
       "        vertical-align: top;\n",
       "    }\n",
       "\n",
       "    .dataframe thead th {\n",
       "        text-align: right;\n",
       "    }\n",
       "</style>\n",
       "<table border=\"1\" class=\"dataframe\">\n",
       "  <thead>\n",
       "    <tr style=\"text-align: right;\">\n",
       "      <th></th>\n",
       "      <th></th>\n",
       "      <th></th>\n",
       "      <th></th>\n",
       "      <th></th>\n",
       "      <th></th>\n",
       "      <th>score</th>\n",
       "      <th>fold</th>\n",
       "    </tr>\n",
       "    <tr>\n",
       "      <th>data</th>\n",
       "      <th>model</th>\n",
       "      <th>explainer</th>\n",
       "      <th>metric</th>\n",
       "      <th>segmentation</th>\n",
       "      <th>instance_id</th>\n",
       "      <th></th>\n",
       "      <th></th>\n",
       "    </tr>\n",
       "  </thead>\n",
       "  <tbody>\n",
       "    <tr>\n",
       "      <th rowspan=\"5\" valign=\"top\">gazebase_all_sr1000_sl5000_savgol_maxvel1000_dxy</th>\n",
       "      <th rowspan=\"5\" valign=\"top\">eky2</th>\n",
       "      <th rowspan=\"5\" valign=\"top\">deeplift_zero</th>\n",
       "      <th rowspan=\"5\" valign=\"top\">top_2_percent_intersection</th>\n",
       "      <th rowspan=\"5\" valign=\"top\">engbert.saccade</th>\n",
       "      <th>91</th>\n",
       "      <td>NaN</td>\n",
       "      <td>1</td>\n",
       "    </tr>\n",
       "    <tr>\n",
       "      <th>327</th>\n",
       "      <td>NaN</td>\n",
       "      <td>1</td>\n",
       "    </tr>\n",
       "    <tr>\n",
       "      <th>421</th>\n",
       "      <td>NaN</td>\n",
       "      <td>1</td>\n",
       "    </tr>\n",
       "    <tr>\n",
       "      <th>590</th>\n",
       "      <td>NaN</td>\n",
       "      <td>1</td>\n",
       "    </tr>\n",
       "    <tr>\n",
       "      <th>675</th>\n",
       "      <td>NaN</td>\n",
       "      <td>1</td>\n",
       "    </tr>\n",
       "    <tr>\n",
       "      <th>...</th>\n",
       "      <th>...</th>\n",
       "      <th>...</th>\n",
       "      <th>...</th>\n",
       "      <th>...</th>\n",
       "      <th>...</th>\n",
       "      <td>...</td>\n",
       "      <td>...</td>\n",
       "    </tr>\n",
       "    <tr>\n",
       "      <th rowspan=\"5\" valign=\"top\">potec_sr1000_sl1000_savgol_maxvel1000_dxy</th>\n",
       "      <th rowspan=\"5\" valign=\"top\">eky2</th>\n",
       "      <th rowspan=\"5\" valign=\"top\">lrp_epsilon0.25_only</th>\n",
       "      <th rowspan=\"5\" valign=\"top\">top_2_percent_intersection_concept_influence</th>\n",
       "      <th rowspan=\"5\" valign=\"top\">ivt.fixation</th>\n",
       "      <th>105230</th>\n",
       "      <td>NaN</td>\n",
       "      <td>6</td>\n",
       "    </tr>\n",
       "    <tr>\n",
       "      <th>105438</th>\n",
       "      <td>NaN</td>\n",
       "      <td>7</td>\n",
       "    </tr>\n",
       "    <tr>\n",
       "      <th>105448</th>\n",
       "      <td>NaN</td>\n",
       "      <td>7</td>\n",
       "    </tr>\n",
       "    <tr>\n",
       "      <th>106666</th>\n",
       "      <td>NaN</td>\n",
       "      <td>5</td>\n",
       "    </tr>\n",
       "    <tr>\n",
       "      <th>106868</th>\n",
       "      <td>NaN</td>\n",
       "      <td>6</td>\n",
       "    </tr>\n",
       "  </tbody>\n",
       "</table>\n",
       "<p>307560 rows × 2 columns</p>\n",
       "</div>"
      ],
      "text/plain": [
       "                                                                                                                                                     score  \\\n",
       "data                                             model explainer            metric                                       segmentation    instance_id         \n",
       "gazebase_all_sr1000_sl5000_savgol_maxvel1000_dxy eky2  deeplift_zero        top_2_percent_intersection                   engbert.saccade 91            NaN   \n",
       "                                                                                                                                         327           NaN   \n",
       "                                                                                                                                         421           NaN   \n",
       "                                                                                                                                         590           NaN   \n",
       "                                                                                                                                         675           NaN   \n",
       "...                                                                                                                                                    ...   \n",
       "potec_sr1000_sl1000_savgol_maxvel1000_dxy        eky2  lrp_epsilon0.25_only top_2_percent_intersection_concept_influence ivt.fixation    105230        NaN   \n",
       "                                                                                                                                         105438        NaN   \n",
       "                                                                                                                                         105448        NaN   \n",
       "                                                                                                                                         106666        NaN   \n",
       "                                                                                                                                         106868        NaN   \n",
       "\n",
       "                                                                                                                                                     fold  \n",
       "data                                             model explainer            metric                                       segmentation    instance_id       \n",
       "gazebase_all_sr1000_sl5000_savgol_maxvel1000_dxy eky2  deeplift_zero        top_2_percent_intersection                   engbert.saccade 91             1  \n",
       "                                                                                                                                         327            1  \n",
       "                                                                                                                                         421            1  \n",
       "                                                                                                                                         590            1  \n",
       "                                                                                                                                         675            1  \n",
       "...                                                                                                                                                   ...  \n",
       "potec_sr1000_sl1000_savgol_maxvel1000_dxy        eky2  lrp_epsilon0.25_only top_2_percent_intersection_concept_influence ivt.fixation    105230         6  \n",
       "                                                                                                                                         105438         7  \n",
       "                                                                                                                                         105448         7  \n",
       "                                                                                                                                         106666         5  \n",
       "                                                                                                                                         106868         6  \n",
       "\n",
       "[307560 rows x 2 columns]"
      ]
     },
     "execution_count": 7,
     "metadata": {},
     "output_type": "execute_result"
    }
   ],
   "source": [
    "df[df.score.isnull()]"
   ]
  },
  {
   "cell_type": "code",
   "execution_count": 8,
   "id": "084f4944",
   "metadata": {},
   "outputs": [
    {
     "data": {
      "text/html": [
       "<div>\n",
       "<style scoped>\n",
       "    .dataframe tbody tr th:only-of-type {\n",
       "        vertical-align: middle;\n",
       "    }\n",
       "\n",
       "    .dataframe tbody tr th {\n",
       "        vertical-align: top;\n",
       "    }\n",
       "\n",
       "    .dataframe thead th {\n",
       "        text-align: right;\n",
       "    }\n",
       "</style>\n",
       "<table border=\"1\" class=\"dataframe\">\n",
       "  <thead>\n",
       "    <tr style=\"text-align: right;\">\n",
       "      <th></th>\n",
       "      <th>data</th>\n",
       "      <th>model</th>\n",
       "      <th>explainer</th>\n",
       "      <th>metric</th>\n",
       "      <th>segmentation</th>\n",
       "      <th>instance_id</th>\n",
       "      <th>score</th>\n",
       "      <th>fold</th>\n",
       "    </tr>\n",
       "  </thead>\n",
       "  <tbody>\n",
       "    <tr>\n",
       "      <th>0</th>\n",
       "      <td>GazeBase</td>\n",
       "      <td>EKY2</td>\n",
       "      <td>DL</td>\n",
       "      <td>top_2_percent_intersection</td>\n",
       "      <td>saccade</td>\n",
       "      <td>0</td>\n",
       "      <td>0.99</td>\n",
       "      <td>1</td>\n",
       "    </tr>\n",
       "    <tr>\n",
       "      <th>1</th>\n",
       "      <td>GazeBase</td>\n",
       "      <td>EKY2</td>\n",
       "      <td>DL</td>\n",
       "      <td>top_2_percent_intersection</td>\n",
       "      <td>saccade</td>\n",
       "      <td>1</td>\n",
       "      <td>0.98</td>\n",
       "      <td>1</td>\n",
       "    </tr>\n",
       "    <tr>\n",
       "      <th>2</th>\n",
       "      <td>GazeBase</td>\n",
       "      <td>EKY2</td>\n",
       "      <td>DL</td>\n",
       "      <td>top_2_percent_intersection</td>\n",
       "      <td>saccade</td>\n",
       "      <td>2</td>\n",
       "      <td>1.0</td>\n",
       "      <td>1</td>\n",
       "    </tr>\n",
       "    <tr>\n",
       "      <th>3</th>\n",
       "      <td>GazeBase</td>\n",
       "      <td>EKY2</td>\n",
       "      <td>DL</td>\n",
       "      <td>top_2_percent_intersection</td>\n",
       "      <td>saccade</td>\n",
       "      <td>3</td>\n",
       "      <td>1.0</td>\n",
       "      <td>1</td>\n",
       "    </tr>\n",
       "    <tr>\n",
       "      <th>4</th>\n",
       "      <td>GazeBase</td>\n",
       "      <td>EKY2</td>\n",
       "      <td>DL</td>\n",
       "      <td>top_2_percent_intersection</td>\n",
       "      <td>saccade</td>\n",
       "      <td>4</td>\n",
       "      <td>1.0</td>\n",
       "      <td>1</td>\n",
       "    </tr>\n",
       "    <tr>\n",
       "      <th>...</th>\n",
       "      <td>...</td>\n",
       "      <td>...</td>\n",
       "      <td>...</td>\n",
       "      <td>...</td>\n",
       "      <td>...</td>\n",
       "      <td>...</td>\n",
       "      <td>...</td>\n",
       "      <td>...</td>\n",
       "    </tr>\n",
       "    <tr>\n",
       "      <th>4171747</th>\n",
       "      <td>PoTeC</td>\n",
       "      <td>EKY2</td>\n",
       "      <td>LRP</td>\n",
       "      <td>top_2_percent_intersection_concept_influence</td>\n",
       "      <td>fixation</td>\n",
       "      <td>107535</td>\n",
       "      <td>0.0</td>\n",
       "      <td>11</td>\n",
       "    </tr>\n",
       "    <tr>\n",
       "      <th>4171748</th>\n",
       "      <td>PoTeC</td>\n",
       "      <td>EKY2</td>\n",
       "      <td>LRP</td>\n",
       "      <td>top_2_percent_intersection_concept_influence</td>\n",
       "      <td>fixation</td>\n",
       "      <td>107536</td>\n",
       "      <td>0.0</td>\n",
       "      <td>11</td>\n",
       "    </tr>\n",
       "    <tr>\n",
       "      <th>4171749</th>\n",
       "      <td>PoTeC</td>\n",
       "      <td>EKY2</td>\n",
       "      <td>LRP</td>\n",
       "      <td>top_2_percent_intersection_concept_influence</td>\n",
       "      <td>fixation</td>\n",
       "      <td>107537</td>\n",
       "      <td>0.0</td>\n",
       "      <td>11</td>\n",
       "    </tr>\n",
       "    <tr>\n",
       "      <th>4171750</th>\n",
       "      <td>PoTeC</td>\n",
       "      <td>EKY2</td>\n",
       "      <td>LRP</td>\n",
       "      <td>top_2_percent_intersection_concept_influence</td>\n",
       "      <td>fixation</td>\n",
       "      <td>107538</td>\n",
       "      <td>0.0</td>\n",
       "      <td>11</td>\n",
       "    </tr>\n",
       "    <tr>\n",
       "      <th>4171751</th>\n",
       "      <td>PoTeC</td>\n",
       "      <td>EKY2</td>\n",
       "      <td>LRP</td>\n",
       "      <td>top_2_percent_intersection_concept_influence</td>\n",
       "      <td>fixation</td>\n",
       "      <td>107539</td>\n",
       "      <td>0.0</td>\n",
       "      <td>11</td>\n",
       "    </tr>\n",
       "  </tbody>\n",
       "</table>\n",
       "<p>4171752 rows × 8 columns</p>\n",
       "</div>"
      ],
      "text/plain": [
       "             data model explainer  \\\n",
       "0        GazeBase  EKY2        DL   \n",
       "1        GazeBase  EKY2        DL   \n",
       "2        GazeBase  EKY2        DL   \n",
       "3        GazeBase  EKY2        DL   \n",
       "4        GazeBase  EKY2        DL   \n",
       "...           ...   ...       ...   \n",
       "4171747     PoTeC  EKY2       LRP   \n",
       "4171748     PoTeC  EKY2       LRP   \n",
       "4171749     PoTeC  EKY2       LRP   \n",
       "4171750     PoTeC  EKY2       LRP   \n",
       "4171751     PoTeC  EKY2       LRP   \n",
       "\n",
       "                                               metric segmentation  \\\n",
       "0                          top_2_percent_intersection      saccade   \n",
       "1                          top_2_percent_intersection      saccade   \n",
       "2                          top_2_percent_intersection      saccade   \n",
       "3                          top_2_percent_intersection      saccade   \n",
       "4                          top_2_percent_intersection      saccade   \n",
       "...                                               ...          ...   \n",
       "4171747  top_2_percent_intersection_concept_influence     fixation   \n",
       "4171748  top_2_percent_intersection_concept_influence     fixation   \n",
       "4171749  top_2_percent_intersection_concept_influence     fixation   \n",
       "4171750  top_2_percent_intersection_concept_influence     fixation   \n",
       "4171751  top_2_percent_intersection_concept_influence     fixation   \n",
       "\n",
       "         instance_id score fold  \n",
       "0                  0  0.99    1  \n",
       "1                  1  0.98    1  \n",
       "2                  2   1.0    1  \n",
       "3                  3   1.0    1  \n",
       "4                  4   1.0    1  \n",
       "...              ...   ...  ...  \n",
       "4171747       107535   0.0   11  \n",
       "4171748       107536   0.0   11  \n",
       "4171749       107537   0.0   11  \n",
       "4171750       107538   0.0   11  \n",
       "4171751       107539   0.0   11  \n",
       "\n",
       "[4171752 rows x 8 columns]"
      ]
     },
     "metadata": {},
     "output_type": "display_data"
    }
   ],
   "source": [
    "df = df.reset_index()\n",
    "\n",
    "df.data = df.data.map(data_keys)\n",
    "df.model = df.model.map(model_keys)\n",
    "df.explainer = df.explainer.map(explainer_keys)\n",
    "df.segmentation = df.segmentation.map(segmentation_keys)\n",
    "\n",
    "\n",
    "display(df)"
   ]
  },
  {
   "cell_type": "code",
   "execution_count": 9,
   "id": "57d7503d",
   "metadata": {},
   "outputs": [
    {
     "data": {
      "text/html": [
       "<div>\n",
       "<style scoped>\n",
       "    .dataframe tbody tr th:only-of-type {\n",
       "        vertical-align: middle;\n",
       "    }\n",
       "\n",
       "    .dataframe tbody tr th {\n",
       "        vertical-align: top;\n",
       "    }\n",
       "\n",
       "    .dataframe thead th {\n",
       "        text-align: right;\n",
       "    }\n",
       "</style>\n",
       "<table border=\"1\" class=\"dataframe\">\n",
       "  <thead>\n",
       "    <tr style=\"text-align: right;\">\n",
       "      <th></th>\n",
       "      <th>data</th>\n",
       "      <th>model</th>\n",
       "      <th>explainer</th>\n",
       "      <th>metric</th>\n",
       "      <th>segmentation</th>\n",
       "      <th>instance_id</th>\n",
       "      <th>score</th>\n",
       "      <th>fold</th>\n",
       "    </tr>\n",
       "  </thead>\n",
       "  <tbody>\n",
       "    <tr>\n",
       "      <th>91</th>\n",
       "      <td>GazeBase</td>\n",
       "      <td>EKY2</td>\n",
       "      <td>DL</td>\n",
       "      <td>top_2_percent_intersection</td>\n",
       "      <td>saccade</td>\n",
       "      <td>91</td>\n",
       "      <td>NaN</td>\n",
       "      <td>1</td>\n",
       "    </tr>\n",
       "    <tr>\n",
       "      <th>327</th>\n",
       "      <td>GazeBase</td>\n",
       "      <td>EKY2</td>\n",
       "      <td>DL</td>\n",
       "      <td>top_2_percent_intersection</td>\n",
       "      <td>saccade</td>\n",
       "      <td>327</td>\n",
       "      <td>NaN</td>\n",
       "      <td>1</td>\n",
       "    </tr>\n",
       "    <tr>\n",
       "      <th>421</th>\n",
       "      <td>GazeBase</td>\n",
       "      <td>EKY2</td>\n",
       "      <td>DL</td>\n",
       "      <td>top_2_percent_intersection</td>\n",
       "      <td>saccade</td>\n",
       "      <td>421</td>\n",
       "      <td>NaN</td>\n",
       "      <td>1</td>\n",
       "    </tr>\n",
       "    <tr>\n",
       "      <th>590</th>\n",
       "      <td>GazeBase</td>\n",
       "      <td>EKY2</td>\n",
       "      <td>DL</td>\n",
       "      <td>top_2_percent_intersection</td>\n",
       "      <td>saccade</td>\n",
       "      <td>590</td>\n",
       "      <td>NaN</td>\n",
       "      <td>1</td>\n",
       "    </tr>\n",
       "    <tr>\n",
       "      <th>675</th>\n",
       "      <td>GazeBase</td>\n",
       "      <td>EKY2</td>\n",
       "      <td>DL</td>\n",
       "      <td>top_2_percent_intersection</td>\n",
       "      <td>saccade</td>\n",
       "      <td>675</td>\n",
       "      <td>NaN</td>\n",
       "      <td>1</td>\n",
       "    </tr>\n",
       "  </tbody>\n",
       "</table>\n",
       "</div>"
      ],
      "text/plain": [
       "         data model explainer                      metric segmentation  \\\n",
       "91   GazeBase  EKY2        DL  top_2_percent_intersection      saccade   \n",
       "327  GazeBase  EKY2        DL  top_2_percent_intersection      saccade   \n",
       "421  GazeBase  EKY2        DL  top_2_percent_intersection      saccade   \n",
       "590  GazeBase  EKY2        DL  top_2_percent_intersection      saccade   \n",
       "675  GazeBase  EKY2        DL  top_2_percent_intersection      saccade   \n",
       "\n",
       "     instance_id score fold  \n",
       "91            91   NaN    1  \n",
       "327          327   NaN    1  \n",
       "421          421   NaN    1  \n",
       "590          590   NaN    1  \n",
       "675          675   NaN    1  "
      ]
     },
     "metadata": {},
     "output_type": "display_data"
    },
    {
     "data": {
      "text/html": [
       "<div>\n",
       "<style scoped>\n",
       "    .dataframe tbody tr th:only-of-type {\n",
       "        vertical-align: middle;\n",
       "    }\n",
       "\n",
       "    .dataframe tbody tr th {\n",
       "        vertical-align: top;\n",
       "    }\n",
       "\n",
       "    .dataframe thead th {\n",
       "        text-align: right;\n",
       "    }\n",
       "</style>\n",
       "<table border=\"1\" class=\"dataframe\">\n",
       "  <thead>\n",
       "    <tr style=\"text-align: right;\">\n",
       "      <th></th>\n",
       "      <th>data</th>\n",
       "      <th>model</th>\n",
       "      <th>explainer</th>\n",
       "      <th>metric</th>\n",
       "      <th>segmentation</th>\n",
       "      <th>instance_id</th>\n",
       "      <th>score</th>\n",
       "      <th>fold</th>\n",
       "    </tr>\n",
       "  </thead>\n",
       "  <tbody>\n",
       "  </tbody>\n",
       "</table>\n",
       "</div>"
      ],
      "text/plain": [
       "Empty DataFrame\n",
       "Columns: [data, model, explainer, metric, segmentation, instance_id, score, fold]\n",
       "Index: []"
      ]
     },
     "metadata": {},
     "output_type": "display_data"
    }
   ],
   "source": [
    "display(df[df.score.isnull()].head())\n",
    "\n",
    "df = df[~df.score.isnull()]\n",
    "\n",
    "display(df[df.score.isnull()].head())"
   ]
  },
  {
   "cell_type": "code",
   "execution_count": 59,
   "id": "cf6d708a",
   "metadata": {},
   "outputs": [],
   "source": [
    "import matplotlib as mpl\n",
    "\n",
    "def plot_scores_catplot(\n",
    "    scores, figsize=(15,6),\n",
    "    xlabel='', ylabel='score', xticks=None,\n",
    "    savepath=None, rc_context=None, kind='bar',\n",
    "    ylim=None,\n",
    "    legend=True,\n",
    "    col_titles=\"\",\n",
    "):\n",
    "    sns.set_theme(style = \"whitegrid\", font_scale=1.3)\n",
    "    #sns.set_style({'legend.frameon':False})\n",
    "    \n",
    "    if rc_context is not None:\n",
    "        sns.set_context('notebook', font_scale=1.4, rc=rc_context)\n",
    "    \n",
    "    #fig = plt.figure(figsize=figsize)\n",
    "    g = sns.catplot(\n",
    "        x='segmentation',\n",
    "        y='score',\n",
    "        col='data',\n",
    "        #row='metric',\n",
    "        hue='explainer',\n",
    "        data=scores,\n",
    "        kind=kind,\n",
    "        #ci=68,\n",
    "        showfliers=False,\n",
    "        sharex=False,\n",
    "        sharey=True,\n",
    "        palette='deep',\n",
    "        legend=False,\n",
    "        #legend=legend,\n",
    "        #legend_out=True,\n",
    "        order=['fixation', 'saccade']\n",
    "    )\n",
    "    \n",
    "    #if legend:\n",
    "    #    sns.move_legend(g, \"upper right\", title=None, frameon=True, bbox_to_anchor=(1.2, 0.4))\n",
    "\n",
    "    #if show_baseline:\n",
    "    #    g.map(plt.axhline, y=1/n_classes, color=\".7\", dashes=(2, 1), zorder=0)\n",
    "\n",
    "    # Adjust title and axis labels directly\n",
    "    #g.set_titles(\"{col_name}\")\n",
    "    g.set_titles(col_titles)\n",
    "    g.set_axis_labels(x_var=xlabel, y_var=ylabel)    \n",
    "    if xticks:\n",
    "        g.set(xticks=xticks)\n",
    "        \n",
    "    for ax in g.axes.flat:\n",
    "        #ax.yaxis.set_major_locator(mpl.ticker.MultipleLocator(base=1))\n",
    "        \n",
    "        #ax = g\n",
    "        ax.tick_params(\n",
    "            axis='x',\n",
    "            which='major',\n",
    "            direction='out',\n",
    "            length=6,\n",
    "            width=2,\n",
    "            pad=0,\n",
    "            color='k',\n",
    "            bottom=True,\n",
    "            reset=False,\n",
    "        )\n",
    "\n",
    "        ax.xaxis.set_minor_locator(mpl.ticker.AutoMinorLocator(n=2))\n",
    "        ax.set_xticklabels(ax.get_xticklabels(), \n",
    "                           rotation=45, \n",
    "                           horizontalalignment='right',\n",
    "                           rotation_mode='anchor'\n",
    "                          )\n",
    "\n",
    "        #ax.set_xlabel(xlabel)\n",
    "        #ax.set_ylabel(ylabel)\n",
    "\n",
    "        ax.grid(False, which='major', axis='x')\n",
    "        ax.grid(True, which='minor', axis='x')\n",
    "        ax.grid(True, which='major', axis='y')\n",
    "        ax.grid(False, which='minor', axis='y')\n",
    "        \n",
    "        ax.axhline(1, color='gray', linestyle='--')\n",
    "        \n",
    "        if ylim is not None:\n",
    "            ax.set_ylim(ylim)\n",
    "\n",
    "   \n",
    "    #plt.legend(legend)\n",
    "    #ax.get_legend().remove()    \n",
    "    \n",
    "    #print(xticklabels)\n",
    "    #print(dir(xticklabels[0]))\n",
    "    #ax.set_ylim((0.9*scores['score'].min(), 1.1*scores['score'].max()))\n",
    "        \n",
    "    #g.set(ylim=(0, 1))\n",
    "    g.fig.set_size_inches(*figsize)\n",
    "    #plt.suptitle(input_key)\n",
    "    \n",
    "    plt.tight_layout(pad=0.8)\n",
    "    plt.tight_layout()\n",
    "    \n",
    "    if legend:\n",
    "        plt.legend(\n",
    "            ncol=3,\n",
    "            loc='center', \n",
    "            bbox_to_anchor=(-0.75, -0.35),\n",
    "        )\n",
    "    \n",
    "\n",
    "    plt.subplots_adjust(hspace=0.1, wspace=0.1)\n",
    "\n",
    "    if savepath:\n",
    "        plt.savefig(savepath, bbox_inches='tight')\n",
    "    \n",
    "    plt.show()\n",
    "    plt.close()"
   ]
  },
  {
   "cell_type": "code",
   "execution_count": 60,
   "id": "8e1eb7f2",
   "metadata": {
    "scrolled": false
   },
   "outputs": [
    {
     "name": "stdout",
     "output_type": "stream",
     "text": [
      "top_2_percent_intersection\n",
      "/home/krakowczyk/workspace/xai-timeseries/plots/attribution_localizations/attribution-top_2_percent_intersection.pdf\n"
     ]
    },
    {
     "data": {
      "image/png": "[encoded data removed]",
      "text/plain": [
       "<Figure size 600x500 with 3 Axes>"
      ]
     },
     "metadata": {},
     "output_type": "display_data"
    },
    {
     "name": "stdout",
     "output_type": "stream",
     "text": [
      "top_2_percent_intersection_concept_influence\n",
      "/home/krakowczyk/workspace/xai-timeseries/plots/attribution_localizations/attribution-top_2_percent_intersection_concept_influence.pdf\n"
     ]
    },
    {
     "data": {
      "image/png": "[encoded data removed]",
      "text/plain": [
       "<Figure size 600x500 with 3 Axes>"
      ]
     },
     "metadata": {},
     "output_type": "display_data"
    }
   ],
   "source": [
    "for metric, df_metric in df.groupby(by='metric'):\n",
    "    print(metric)\n",
    "    filename = f\"attribution-{metric.lower().replace(' ', '-').replace('(', '').replace(')', '')}.pdf\"\n",
    "    savepath = plot_dirpath / filename\n",
    "    print(savepath)\n",
    "    plot_scores_catplot(\n",
    "        df_metric.reset_index(),\n",
    "        savepath=savepath,\n",
    "        kind='box',\n",
    "        ylabel=metric_keys[metric],\n",
    "        figsize=(6, 5),\n",
    "        legend=True,\n",
    "        col_titles=\"{col_name}\"\n",
    "    )"
   ]
  },
  {
   "cell_type": "code",
   "execution_count": null,
   "id": "d5921f7a",
   "metadata": {},
   "outputs": [],
   "source": []
  },
  {
   "cell_type": "code",
   "execution_count": null,
   "id": "a0341c1d",
   "metadata": {},
   "outputs": [],
   "source": []
  }
 ],
 "metadata": {
  "kernelspec": {
   "display_name": "cuda113-dgx",
   "language": "python",
   "name": "cu113-dgx"
  },
  "language_info": {
   "codemirror_mode": {
    "name": "ipython",
    "version": 3
   },
   "file_extension": ".py",
   "mimetype": "text/x-python",
   "name": "python",
   "nbconvert_exporter": "python",
   "pygments_lexer": "ipython3",
   "version": "3.9.12"
  }
 },
 "nbformat": 4,
 "nbformat_minor": 5
}
